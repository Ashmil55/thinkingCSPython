{
 "cells": [
  {
   "cell_type": "markdown",
   "metadata": {},
   "source": [
    "Chapter 10 : Dictionaries"
   ]
  },
  {
   "cell_type": "code",
   "execution_count": 1,
   "metadata": {},
   "outputs": [
    {
     "name": "stdout",
     "output_type": "stream",
     "text": [
      "{'India': 'Delhi'}\n"
     ]
    }
   ],
   "source": [
    "#compound data types discussed so far - strings, lists, tuples\n",
    "#all of them index through numbers\n",
    "#dictionaries - allow immutable indices \n",
    "dict_ex = {} #creating an empty dictionary\n",
    "dict_ex[\"India\"] = \"Delhi\"\n",
    "print(dict_ex)"
   ]
  },
  {
   "cell_type": "code",
   "execution_count": 2,
   "metadata": {},
   "outputs": [],
   "source": [
    "dict_ex[\"Pakistan\"] = \"Islamabad\""
   ]
  },
  {
   "cell_type": "code",
   "execution_count": 7,
   "metadata": {},
   "outputs": [
    {
     "name": "stdout",
     "output_type": "stream",
     "text": [
      "{'India': 'Delhi', 'Pakistan': 'Islamabad'}\n"
     ]
    }
   ],
   "source": [
    "print(dict_ex)"
   ]
  },
  {
   "cell_type": "code",
   "execution_count": 4,
   "metadata": {},
   "outputs": [
    {
     "name": "stdout",
     "output_type": "stream",
     "text": [
      "Delhi\n"
     ]
    }
   ],
   "source": [
    "#accessing elements in the dictionary\n",
    "print(dict_ex['India'])"
   ]
  },
  {
   "cell_type": "code",
   "execution_count": 5,
   "metadata": {},
   "outputs": [
    {
     "ename": "KeyError",
     "evalue": "'india'",
     "output_type": "error",
     "traceback": [
      "\u001b[0;31m---------------------------------------------------------------------------\u001b[0m",
      "\u001b[0;31mKeyError\u001b[0m                                  Traceback (most recent call last)",
      "\u001b[0;32m<ipython-input-5-b4e0f580f096>\u001b[0m in \u001b[0;36m<module>\u001b[0;34m\u001b[0m\n\u001b[0;32m----> 1\u001b[0;31m \u001b[0mprint\u001b[0m\u001b[0;34m(\u001b[0m\u001b[0mdict_ex\u001b[0m\u001b[0;34m[\u001b[0m\u001b[0;34m'india'\u001b[0m\u001b[0;34m]\u001b[0m\u001b[0;34m)\u001b[0m\u001b[0;34m\u001b[0m\u001b[0;34m\u001b[0m\u001b[0m\n\u001b[0m",
      "\u001b[0;31mKeyError\u001b[0m: 'india'"
     ]
    }
   ],
   "source": [
    "print(dict_ex['india']) #error ... case matters ... key must be exact"
   ]
  },
  {
   "cell_type": "code",
   "execution_count": 8,
   "metadata": {},
   "outputs": [
    {
     "name": "stdout",
     "output_type": "stream",
     "text": [
      "{'China': 'Beijing', 'United States': 'Washington DC'}\n"
     ]
    }
   ],
   "source": [
    "dict_ex = {'China' : 'Beijing', 'United States':'Washington DC'}\n",
    "print(dict_ex)"
   ]
  },
  {
   "cell_type": "code",
   "execution_count": 9,
   "metadata": {},
   "outputs": [],
   "source": [
    "dict_ex['China'] = 'Beijingg'"
   ]
  },
  {
   "cell_type": "code",
   "execution_count": 10,
   "metadata": {},
   "outputs": [
    {
     "name": "stdout",
     "output_type": "stream",
     "text": [
      "{'China': 'Beijingg', 'United States': 'Washington DC'}\n"
     ]
    }
   ],
   "source": [
    "print(dict_ex)"
   ]
  },
  {
   "cell_type": "code",
   "execution_count": 11,
   "metadata": {},
   "outputs": [
    {
     "ename": "TypeError",
     "evalue": "unsupported operand type(s) for +: 'dict' and 'dict'",
     "output_type": "error",
     "traceback": [
      "\u001b[0;31m---------------------------------------------------------------------------\u001b[0m",
      "\u001b[0;31mTypeError\u001b[0m                                 Traceback (most recent call last)",
      "\u001b[0;32m<ipython-input-11-d5486506de51>\u001b[0m in \u001b[0;36m<module>\u001b[0;34m\u001b[0m\n\u001b[0;32m----> 1\u001b[0;31m \u001b[0mdict_ex\u001b[0m \u001b[0;34m=\u001b[0m \u001b[0mdict_ex\u001b[0m \u001b[0;34m+\u001b[0m \u001b[0;34m{\u001b[0m\u001b[0;34m'India'\u001b[0m\u001b[0;34m:\u001b[0m\u001b[0;34m'New Delhi'\u001b[0m\u001b[0;34m,\u001b[0m \u001b[0;34m'Pakistan'\u001b[0m\u001b[0;34m:\u001b[0m\u001b[0;34m'Islamabad'\u001b[0m\u001b[0;34m}\u001b[0m\u001b[0;34m\u001b[0m\u001b[0;34m\u001b[0m\u001b[0m\n\u001b[0m",
      "\u001b[0;31mTypeError\u001b[0m: unsupported operand type(s) for +: 'dict' and 'dict'"
     ]
    }
   ],
   "source": [
    "dict_ex = dict_ex + {'India':'New Delhi', 'Pakistan':'Islamabad'} #cannot concatenate dictionaries like this"
   ]
  },
  {
   "cell_type": "code",
   "execution_count": 12,
   "metadata": {},
   "outputs": [],
   "source": [
    "eng2spa = {'one':'uno', 'two':'dos', 'three':'tres'}"
   ]
  },
  {
   "cell_type": "code",
   "execution_count": 13,
   "metadata": {},
   "outputs": [
    {
     "name": "stdout",
     "output_type": "stream",
     "text": [
      "{'one': 'uno', 'two': 'dos', 'three': 'tres'}\n"
     ]
    }
   ],
   "source": [
    "print(eng2spa)"
   ]
  },
  {
   "cell_type": "code",
   "execution_count": 14,
   "metadata": {},
   "outputs": [
    {
     "name": "stdout",
     "output_type": "stream",
     "text": [
      "{'apple': 145, 'mangoes': 70, 'pears': 90, 'banana': 50}\n"
     ]
    }
   ],
   "source": [
    "#operations on dictionaries\n",
    "fruit_stock = {'apple' : 145, 'mangoes' : 70, 'pears' : 90, 'banana' : 50}\n",
    "print(fruit_stock)"
   ]
  },
  {
   "cell_type": "code",
   "execution_count": 16,
   "metadata": {},
   "outputs": [
    {
     "name": "stdout",
     "output_type": "stream",
     "text": [
      "{'apple': 145, 'mangoes': 70, 'banana': 50}\n"
     ]
    }
   ],
   "source": [
    "#deleting an item \n",
    "del(fruit_stock['pears'])\n",
    "print(fruit_stock)"
   ]
  },
  {
   "cell_type": "code",
   "execution_count": 17,
   "metadata": {},
   "outputs": [],
   "source": [
    "#changing a value\n",
    "fruit_stock['apple'] = fruit_stock['apple'] - 5"
   ]
  },
  {
   "cell_type": "code",
   "execution_count": 19,
   "metadata": {},
   "outputs": [
    {
     "name": "stdout",
     "output_type": "stream",
     "text": [
      "{'apple': 140, 'mangoes': 70, 'banana': 50}\n"
     ]
    }
   ],
   "source": [
    "print(fruit_stock)"
   ]
  },
  {
   "cell_type": "code",
   "execution_count": 20,
   "metadata": {},
   "outputs": [
    {
     "name": "stdout",
     "output_type": "stream",
     "text": [
      "2\n"
     ]
    }
   ],
   "source": [
    "#len returns the number of key-value pairs\n",
    "print(len(dict_ex))"
   ]
  },
  {
   "cell_type": "code",
   "execution_count": 21,
   "metadata": {},
   "outputs": [
    {
     "name": "stdout",
     "output_type": "stream",
     "text": [
      "3\n"
     ]
    }
   ],
   "source": [
    "print(len(fruit_stock))"
   ]
  },
  {
   "cell_type": "code",
   "execution_count": 22,
   "metadata": {},
   "outputs": [],
   "source": [
    "#functions vs methods\n",
    "#fun(x)  vs x.method()"
   ]
  },
  {
   "cell_type": "code",
   "execution_count": 24,
   "metadata": {},
   "outputs": [
    {
     "name": "stdout",
     "output_type": "stream",
     "text": [
      "dict_keys(['apple', 'mangoes', 'banana'])\n",
      "<class 'dict_keys'>\n"
     ]
    }
   ],
   "source": [
    "#dictionary methods\n",
    "#method to return all the keys of a dictionary\n",
    "fruits = fruit_stock.keys() #.keys() will return all the keys of given dictionary as dict_keys type\n",
    "print(fruits)\n",
    "print(type(fruits)) "
   ]
  },
  {
   "cell_type": "code",
   "execution_count": 25,
   "metadata": {},
   "outputs": [
    {
     "name": "stdout",
     "output_type": "stream",
     "text": [
      "<class 'dict'>\n"
     ]
    }
   ],
   "source": [
    "print(type(fruit_stock))"
   ]
  },
  {
   "cell_type": "code",
   "execution_count": 26,
   "metadata": {},
   "outputs": [],
   "source": [
    "fruits = list(fruits) #converting dict_keys type to list using list() function"
   ]
  },
  {
   "cell_type": "code",
   "execution_count": 27,
   "metadata": {},
   "outputs": [
    {
     "name": "stdout",
     "output_type": "stream",
     "text": [
      "['apple', 'mangoes', 'banana']\n"
     ]
    }
   ],
   "source": [
    "print(fruits)"
   ]
  },
  {
   "cell_type": "code",
   "execution_count": 28,
   "metadata": {},
   "outputs": [
    {
     "name": "stdout",
     "output_type": "stream",
     "text": [
      "<class 'list'>\n"
     ]
    }
   ],
   "source": [
    "print(type(fruits))"
   ]
  },
  {
   "cell_type": "code",
   "execution_count": 29,
   "metadata": {},
   "outputs": [],
   "source": [
    "#getting the values of a dictionary\n",
    "stock = fruit_stock.values()"
   ]
  },
  {
   "cell_type": "code",
   "execution_count": 30,
   "metadata": {},
   "outputs": [
    {
     "name": "stdout",
     "output_type": "stream",
     "text": [
      "dict_values([140, 70, 50])\n"
     ]
    }
   ],
   "source": [
    "print(stock)"
   ]
  },
  {
   "cell_type": "code",
   "execution_count": 31,
   "metadata": {},
   "outputs": [
    {
     "name": "stdout",
     "output_type": "stream",
     "text": [
      "<class 'dict_values'>\n"
     ]
    }
   ],
   "source": [
    "print(type(stock))"
   ]
  },
  {
   "cell_type": "code",
   "execution_count": 32,
   "metadata": {},
   "outputs": [
    {
     "name": "stdout",
     "output_type": "stream",
     "text": [
      "[140, 70, 50]\n",
      "<class 'list'>\n"
     ]
    }
   ],
   "source": [
    "stock = list(stock)\n",
    "print(stock)\n",
    "print(type(stock))"
   ]
  },
  {
   "cell_type": "code",
   "execution_count": 36,
   "metadata": {},
   "outputs": [
    {
     "name": "stdout",
     "output_type": "stream",
     "text": [
      "dict_items([('apple', 140), ('mangoes', 70), ('banana', 50)])\n",
      "<class 'dict_items'>\n"
     ]
    },
    {
     "ename": "TypeError",
     "evalue": "'dict_items' object is not subscriptable",
     "output_type": "error",
     "traceback": [
      "\u001b[0;31m---------------------------------------------------------------------------\u001b[0m",
      "\u001b[0;31mTypeError\u001b[0m                                 Traceback (most recent call last)",
      "\u001b[0;32m<ipython-input-36-770013a3aca5>\u001b[0m in \u001b[0;36m<module>\u001b[0;34m\u001b[0m\n\u001b[1;32m      3\u001b[0m \u001b[0mprint\u001b[0m\u001b[0;34m(\u001b[0m\u001b[0minventory\u001b[0m\u001b[0;34m)\u001b[0m\u001b[0;34m\u001b[0m\u001b[0;34m\u001b[0m\u001b[0m\n\u001b[1;32m      4\u001b[0m \u001b[0mprint\u001b[0m\u001b[0;34m(\u001b[0m\u001b[0mtype\u001b[0m\u001b[0;34m(\u001b[0m\u001b[0minventory\u001b[0m\u001b[0;34m)\u001b[0m\u001b[0;34m)\u001b[0m\u001b[0;34m\u001b[0m\u001b[0;34m\u001b[0m\u001b[0m\n\u001b[0;32m----> 5\u001b[0;31m \u001b[0mprint\u001b[0m\u001b[0;34m(\u001b[0m\u001b[0minventory\u001b[0m\u001b[0;34m[\u001b[0m\u001b[0;36m0\u001b[0m\u001b[0;34m]\u001b[0m\u001b[0;34m)\u001b[0m\u001b[0;34m\u001b[0m\u001b[0;34m\u001b[0m\u001b[0m\n\u001b[0m",
      "\u001b[0;31mTypeError\u001b[0m: 'dict_items' object is not subscriptable"
     ]
    }
   ],
   "source": [
    "#getting the items of a dictionary\n",
    "inventory = fruit_stock.items() #returns a list of (key,value) pairs .. tuples\n",
    "print(inventory) \n",
    "print(type(inventory))\n",
    "print(inventory[0])"
   ]
  },
  {
   "cell_type": "code",
   "execution_count": 37,
   "metadata": {},
   "outputs": [
    {
     "name": "stdout",
     "output_type": "stream",
     "text": [
      "[('apple', 140), ('mangoes', 70), ('banana', 50)]\n",
      "<class 'list'>\n"
     ]
    }
   ],
   "source": [
    "inventory = list(inventory)\n",
    "print(inventory)\n",
    "print(type(inventory))"
   ]
  },
  {
   "cell_type": "code",
   "execution_count": 39,
   "metadata": {},
   "outputs": [
    {
     "name": "stdout",
     "output_type": "stream",
     "text": [
      "('apple', 140)\n",
      "<class 'tuple'>\n"
     ]
    }
   ],
   "source": [
    "print(inventory[0])\n",
    "print(type(inventory[0]))"
   ]
  },
  {
   "cell_type": "code",
   "execution_count": 41,
   "metadata": {},
   "outputs": [
    {
     "name": "stdout",
     "output_type": "stream",
     "text": [
      "{'apple': 140, 'mangoes': 70, 'banana': 50}\n"
     ]
    },
    {
     "ename": "AttributeError",
     "evalue": "'dict' object has no attribute 'has_key'",
     "output_type": "error",
     "traceback": [
      "\u001b[0;31m---------------------------------------------------------------------------\u001b[0m",
      "\u001b[0;31mAttributeError\u001b[0m                            Traceback (most recent call last)",
      "\u001b[0;32m<ipython-input-41-835029204bdd>\u001b[0m in \u001b[0;36m<module>\u001b[0;34m\u001b[0m\n\u001b[1;32m      1\u001b[0m \u001b[0;31m#finally another dictionary method to check the existence of a key in a dictionary\u001b[0m\u001b[0;34m\u001b[0m\u001b[0;34m\u001b[0m\u001b[0;34m\u001b[0m\u001b[0m\n\u001b[1;32m      2\u001b[0m \u001b[0mprint\u001b[0m\u001b[0;34m(\u001b[0m\u001b[0mfruit_stock\u001b[0m\u001b[0;34m)\u001b[0m\u001b[0;34m\u001b[0m\u001b[0;34m\u001b[0m\u001b[0m\n\u001b[0;32m----> 3\u001b[0;31m \u001b[0mprint\u001b[0m\u001b[0;34m(\u001b[0m\u001b[0mfruit_stock\u001b[0m\u001b[0;34m.\u001b[0m\u001b[0mhas_key\u001b[0m\u001b[0;34m(\u001b[0m\u001b[0;34m'mangoes'\u001b[0m\u001b[0;34m)\u001b[0m\u001b[0;34m)\u001b[0m\u001b[0;34m\u001b[0m\u001b[0;34m\u001b[0m\u001b[0m\n\u001b[0m\u001b[1;32m      4\u001b[0m \u001b[0mprint\u001b[0m\u001b[0;34m(\u001b[0m\u001b[0mfruit_stock\u001b[0m\u001b[0;34m.\u001b[0m\u001b[0mhas_key\u001b[0m\u001b[0;34m(\u001b[0m\u001b[0;34m'pears'\u001b[0m\u001b[0;34m)\u001b[0m\u001b[0;34m)\u001b[0m\u001b[0;34m\u001b[0m\u001b[0;34m\u001b[0m\u001b[0m\n",
      "\u001b[0;31mAttributeError\u001b[0m: 'dict' object has no attribute 'has_key'"
     ]
    }
   ],
   "source": [
    "#finally another dictionary method to check the existence of a key in a dictionary\n",
    "print(fruit_stock)\n",
    "print(fruit_stock.has_key('mangoes'))\n",
    "print(fruit_stock.has_key('pears'))"
   ]
  },
  {
   "cell_type": "code",
   "execution_count": 43,
   "metadata": {},
   "outputs": [
    {
     "name": "stdout",
     "output_type": "stream",
     "text": [
      "True\n",
      "False\n"
     ]
    }
   ],
   "source": [
    "#has_key() method does not work in python 3. versions \n",
    "#we will use in instead\n",
    "print('mangoes' in fruit_stock)\n",
    "print('pears' in fruit_stock)"
   ]
  },
  {
   "cell_type": "code",
   "execution_count": 44,
   "metadata": {},
   "outputs": [
    {
     "name": "stdout",
     "output_type": "stream",
     "text": [
      "False\n"
     ]
    }
   ],
   "source": [
    "#you are only checking the keys using in ... so the next print function will return false\n",
    "print(140 in fruit_stock)"
   ]
  },
  {
   "cell_type": "code",
   "execution_count": 46,
   "metadata": {},
   "outputs": [
    {
     "name": "stdout",
     "output_type": "stream",
     "text": [
      "{'breakfast': 'toast', 'lunch': 'salad', 'snack': 'cake', 'dinner': 'pizza'}\n",
      "{'breakfast': 'dosa', 'lunch': 'salad', 'snack': 'cake', 'dinner': 'pizza'}\n",
      "{'breakfast': 'dosa', 'lunch': 'salad', 'snack': 'cake', 'dinner': 'pizza'}\n"
     ]
    }
   ],
   "source": [
    "#dictionaries are mutable\n",
    "#aliasing vs copying ...\n",
    "#remember how we had to be careful while aliasing lists?\n",
    "dict1 = {'breakfast' : 'toast', 'lunch' :'salad', 'snack' : 'cake', 'dinner' : 'pizza'}\n",
    "print(dict1)\n",
    "dict2 = dict1\n",
    "dict2['breakfast'] = 'dosa'\n",
    "print(dict2)\n",
    "print(dict1)"
   ]
  },
  {
   "cell_type": "code",
   "execution_count": 48,
   "metadata": {},
   "outputs": [
    {
     "name": "stdout",
     "output_type": "stream",
     "text": [
      "{'breakfast': 'toast', 'lunch': 'salad', 'snack': 'cake', 'dinner': 'pizza'}\n",
      "{'breakfast': 'dosa', 'lunch': 'salad', 'snack': 'cake', 'dinner': 'pizza'}\n",
      "{'breakfast': 'toast', 'lunch': 'salad', 'snack': 'cake', 'dinner': 'pizza'}\n"
     ]
    }
   ],
   "source": [
    "#instead we can use copying \n",
    "dict1 = {'breakfast' : 'toast', 'lunch' :'salad', 'snack' : 'cake', 'dinner' : 'pizza'}\n",
    "print(dict1)\n",
    "dict2 = dict1.copy() #remember for lists we used l[:] but dictionaries can not be sliced\n",
    "dict2['breakfast'] = 'dosa'\n",
    "print(dict2)\n",
    "print(dict1)"
   ]
  },
  {
   "cell_type": "code",
   "execution_count": 52,
   "metadata": {},
   "outputs": [
    {
     "name": "stdout",
     "output_type": "stream",
     "text": [
      "[[0, 0, 0, 0], [0, 0, 0, 0], [0, 0, 0, 0], [0, 0, 0, 0]]\n",
      "[[0, 0, 0, 17], [0, 0, 8, 0], [0, 0, 0, 6], [0, 0, 0, 0]]\n"
     ]
    }
   ],
   "source": [
    "#creating a sparse matrix(most of the elements being 0s) using lists\n",
    "sparse_matrix = [[0]*4,[0]*4,[0]*4,[0]*4]\n",
    "print(sparse_matrix)\n",
    "sparse_matrix[2][3] = 6\n",
    "sparse_matrix[1][2] = 8\n",
    "sparse_matrix[0][3] = 17\n",
    "print(sparse_matrix)"
   ]
  },
  {
   "cell_type": "code",
   "execution_count": 53,
   "metadata": {},
   "outputs": [],
   "source": [
    "#dealing with sparse matrices using dictionaries\n",
    "#we take note of only non zero values\n",
    "sparse_matrix2 = {(0,3): 17, (1,2) : 8, (2,3) : 6}"
   ]
  },
  {
   "cell_type": "code",
   "execution_count": 54,
   "metadata": {},
   "outputs": [
    {
     "name": "stdout",
     "output_type": "stream",
     "text": [
      "{(0, 3): 17, (1, 2): 8, (2, 3): 6}\n"
     ]
    }
   ],
   "source": [
    "print(sparse_matrix2)"
   ]
  },
  {
   "cell_type": "code",
   "execution_count": 55,
   "metadata": {},
   "outputs": [
    {
     "name": "stdout",
     "output_type": "stream",
     "text": [
      "8\n"
     ]
    }
   ],
   "source": [
    "#accessing non-zero elements of the sparese_matrix2 \n",
    "print(sparse_matrix2[(1,2)])"
   ]
  },
  {
   "cell_type": "code",
   "execution_count": 56,
   "metadata": {},
   "outputs": [
    {
     "ename": "KeyError",
     "evalue": "(2, 2)",
     "output_type": "error",
     "traceback": [
      "\u001b[0;31m---------------------------------------------------------------------------\u001b[0m",
      "\u001b[0;31mKeyError\u001b[0m                                  Traceback (most recent call last)",
      "\u001b[0;32m<ipython-input-56-e0968b915077>\u001b[0m in \u001b[0;36m<module>\u001b[0;34m\u001b[0m\n\u001b[1;32m      1\u001b[0m \u001b[0;31m#what happens when we try to access the zero elements(in our mind ... abstract) ... they are not actually present\u001b[0m\u001b[0;34m\u001b[0m\u001b[0;34m\u001b[0m\u001b[0;34m\u001b[0m\u001b[0m\n\u001b[0;32m----> 2\u001b[0;31m \u001b[0mprint\u001b[0m\u001b[0;34m(\u001b[0m\u001b[0msparse_matrix2\u001b[0m\u001b[0;34m[\u001b[0m\u001b[0;34m(\u001b[0m\u001b[0;36m2\u001b[0m\u001b[0;34m,\u001b[0m\u001b[0;36m2\u001b[0m\u001b[0;34m)\u001b[0m\u001b[0;34m]\u001b[0m\u001b[0;34m)\u001b[0m\u001b[0;34m\u001b[0m\u001b[0;34m\u001b[0m\u001b[0m\n\u001b[0m",
      "\u001b[0;31mKeyError\u001b[0m: (2, 2)"
     ]
    }
   ],
   "source": [
    "#what happens when we try to access the zero elements(in our mind ... abstract) ... they are not actually present\n",
    "print(sparse_matrix2[(2,2)]) #gives an error"
   ]
  },
  {
   "cell_type": "code",
   "execution_count": 57,
   "metadata": {},
   "outputs": [
    {
     "name": "stdout",
     "output_type": "stream",
     "text": [
      "17\n",
      "0\n"
     ]
    }
   ],
   "source": [
    "#to solve this problem, we can use the get() method for accessing dictionaries used to represent matrices\n",
    "#first argument of get() will be the key and the second argument will be the value we want\n",
    "#get() method to return if the key is not present in the dictionary\n",
    "print(sparse_matrix2.get((0,3), 0)) \n",
    "print(sparse_matrix2.get((2,2), 0))"
   ]
  },
  {
   "cell_type": "code",
   "execution_count": 60,
   "metadata": {},
   "outputs": [
    {
     "name": "stdout",
     "output_type": "stream",
     "text": [
      "17\n",
      "0\n"
     ]
    }
   ],
   "source": [
    "#lets try to write this get function on our own\n",
    "def get_value(d,k,r):\n",
    "    #d is the dictionary\n",
    "    #k is the key whose value we want\n",
    "    #r is the return value we want if key is not present in d\n",
    "    if not(k in d) : \n",
    "        return r\n",
    "    else :\n",
    "        return d[k]\n",
    "print(get_value(sparse_matrix2, (0,3), 0))\n",
    "print(get_value(sparse_matrix2, (2,2), 0))"
   ]
  },
  {
   "cell_type": "code",
   "execution_count": null,
   "metadata": {},
   "outputs": [],
   "source": [
    "#our funciton seems to work\n",
    "#lets try it for other "
   ]
  },
  {
   "cell_type": "code",
   "execution_count": null,
   "metadata": {},
   "outputs": [],
   "source": []
  },
  {
   "cell_type": "code",
   "execution_count": null,
   "metadata": {},
   "outputs": [],
   "source": []
  },
  {
   "cell_type": "code",
   "execution_count": null,
   "metadata": {},
   "outputs": [],
   "source": []
  }
 ],
 "metadata": {
  "kernelspec": {
   "display_name": "Python 3",
   "language": "python",
   "name": "python3"
  },
  "language_info": {
   "codemirror_mode": {
    "name": "ipython",
    "version": 3
   },
   "file_extension": ".py",
   "mimetype": "text/x-python",
   "name": "python",
   "nbconvert_exporter": "python",
   "pygments_lexer": "ipython3",
   "version": "3.7.6"
  }
 },
 "nbformat": 4,
 "nbformat_minor": 4
}
