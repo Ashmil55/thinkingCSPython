{
 "cells": [
  {
   "cell_type": "markdown",
   "metadata": {},
   "source": [
    "Chapter 9 : Tuples"
   ]
  },
  {
   "cell_type": "code",
   "execution_count": 2,
   "metadata": {},
   "outputs": [
    {
     "name": "stdout",
     "output_type": "stream",
     "text": [
      "('a', 'b', 'c')\n"
     ]
    }
   ],
   "source": [
    "#tuples are similar to lists but are immutable\n",
    "#comma-seperated list of values\n",
    "t = ('a','b','c')\n",
    "print(t)"
   ]
  },
  {
   "cell_type": "code",
   "execution_count": 3,
   "metadata": {},
   "outputs": [
    {
     "name": "stdout",
     "output_type": "stream",
     "text": [
      "<class 'tuple'>\n"
     ]
    }
   ],
   "source": [
    "print(type(t))"
   ]
  },
  {
   "cell_type": "code",
   "execution_count": 7,
   "metadata": {},
   "outputs": [],
   "source": [
    "#tuple containing single element\n",
    "singleton_t = ('a',) #the comma at the end is necessary .. otherwise the python interpreter will consider it to be string\n",
    "singleton_s = ('a')"
   ]
  },
  {
   "cell_type": "code",
   "execution_count": 9,
   "metadata": {},
   "outputs": [
    {
     "name": "stdout",
     "output_type": "stream",
     "text": [
      "<class 'tuple'>\n",
      "<class 'str'>\n"
     ]
    }
   ],
   "source": [
    "print(type(singleton_t))\n",
    "print(type(singleton_s))"
   ]
  },
  {
   "cell_type": "code",
   "execution_count": 10,
   "metadata": {},
   "outputs": [
    {
     "name": "stdout",
     "output_type": "stream",
     "text": [
      "('a', 2, 4, 'hello', 5.78, (4, 5, 6))\n"
     ]
    }
   ],
   "source": [
    "#operations on tuple are similar to operations on lists \n",
    "#accessing elements in a tuple using index\n",
    "tuple_ex = ('a',2,4,'hello',5.78,(4,5,6)) #like lists, tuples can also have elements of different types\n",
    "print(tuple_ex)"
   ]
  },
  {
   "cell_type": "code",
   "execution_count": 11,
   "metadata": {},
   "outputs": [
    {
     "name": "stdout",
     "output_type": "stream",
     "text": [
      "hello\n",
      "('hello', 5.78, (4, 5, 6))\n"
     ]
    }
   ],
   "source": [
    "print(tuple_ex[3])\n",
    "print(tuple_ex[3:]) #slicing"
   ]
  },
  {
   "cell_type": "code",
   "execution_count": 12,
   "metadata": {},
   "outputs": [
    {
     "name": "stdout",
     "output_type": "stream",
     "text": [
      "(4, 'hello', 5.78)\n"
     ]
    }
   ],
   "source": [
    "print(tuple_ex[2:5])#slicing"
   ]
  },
  {
   "cell_type": "code",
   "execution_count": 13,
   "metadata": {},
   "outputs": [
    {
     "ename": "TypeError",
     "evalue": "'tuple' object does not support item assignment",
     "output_type": "error",
     "traceback": [
      "\u001b[0;31m---------------------------------------------------------------------------\u001b[0m",
      "\u001b[0;31mTypeError\u001b[0m                                 Traceback (most recent call last)",
      "\u001b[0;32m<ipython-input-13-4256872fe86b>\u001b[0m in \u001b[0;36m<module>\u001b[0;34m\u001b[0m\n\u001b[1;32m      1\u001b[0m \u001b[0;31m#lets try to modify an element in tuple\u001b[0m\u001b[0;34m\u001b[0m\u001b[0;34m\u001b[0m\u001b[0;34m\u001b[0m\u001b[0m\n\u001b[0;32m----> 2\u001b[0;31m \u001b[0mtuple_ex\u001b[0m\u001b[0;34m[\u001b[0m\u001b[0;36m2\u001b[0m\u001b[0;34m]\u001b[0m \u001b[0;34m=\u001b[0m \u001b[0;36m77\u001b[0m\u001b[0;34m\u001b[0m\u001b[0;34m\u001b[0m\u001b[0m\n\u001b[0m",
      "\u001b[0;31mTypeError\u001b[0m: 'tuple' object does not support item assignment"
     ]
    }
   ],
   "source": [
    "#lets try to modify an element in tuple\n",
    "tuple_ex[2] = 77 #this will give an error"
   ]
  },
  {
   "cell_type": "code",
   "execution_count": 15,
   "metadata": {},
   "outputs": [],
   "source": [
    "#tuple assignment "
   ]
  },
  {
   "cell_type": "code",
   "execution_count": 16,
   "metadata": {},
   "outputs": [
    {
     "name": "stdout",
     "output_type": "stream",
     "text": [
      "a before swapping 5\n",
      "b before swapping 9\n",
      "a after swapping 9\n",
      "b after swapping 5\n"
     ]
    }
   ],
   "source": [
    "#swapping of variables using temp variable\n",
    "a = 5 \n",
    "b = 9 \n",
    "print(\"a before swapping\",a)\n",
    "print(\"b before swapping\",b)\n",
    "temp = a \n",
    "a = b\n",
    "b = temp\n",
    "print(\"a after swapping\",a)\n",
    "print(\"b after swapping\",b)"
   ]
  },
  {
   "cell_type": "code",
   "execution_count": 17,
   "metadata": {},
   "outputs": [
    {
     "name": "stdout",
     "output_type": "stream",
     "text": [
      "5\n",
      "9\n"
     ]
    }
   ],
   "source": [
    "#this swapping can be easily done using tuple assignment\n",
    "a = 5\n",
    "b = 9\n",
    "print(a)\n",
    "print(b)"
   ]
  },
  {
   "cell_type": "code",
   "execution_count": 18,
   "metadata": {},
   "outputs": [
    {
     "name": "stdout",
     "output_type": "stream",
     "text": [
      "9\n",
      "5\n"
     ]
    }
   ],
   "source": [
    "#swapping using tuple assignment\n",
    "a,b = b,a\n",
    "print(a)\n",
    "print(b)"
   ]
  },
  {
   "cell_type": "code",
   "execution_count": 19,
   "metadata": {},
   "outputs": [
    {
     "name": "stdout",
     "output_type": "stream",
     "text": [
      "55\n",
      "105\n",
      "\n",
      "105\n",
      "55\n"
     ]
    }
   ],
   "source": [
    "#tuples as return values to functions\n",
    "#function to swap two variables\n",
    "def swap(a,b) :\n",
    "    return b,a\n",
    "x = 55\n",
    "y = 105\n",
    "print(x)\n",
    "print(y)\n",
    "print()\n",
    "x,y = swap(x,y)\n",
    "print(x)\n",
    "print(y)"
   ]
  },
  {
   "cell_type": "code",
   "execution_count": 20,
   "metadata": {},
   "outputs": [
    {
     "name": "stdout",
     "output_type": "stream",
     "text": [
      "77\n",
      "99\n",
      "\n",
      "77\n",
      "99\n"
     ]
    }
   ],
   "source": [
    "#instead of returning, if we assign the swapped variables inside the function, it does not reflect outside the function\n",
    "def swap2(a,b):\n",
    "    a,b = b,a\n",
    "    return None\n",
    "\n",
    "x = 77\n",
    "y = 99\n",
    "print(x)\n",
    "print(y)\n",
    "print()\n",
    "swap2(x,y)\n",
    "print(x)\n",
    "print(y)\n",
    "#swap does not happen"
   ]
  },
  {
   "cell_type": "code",
   "execution_count": 21,
   "metadata": {},
   "outputs": [
    {
     "name": "stdout",
     "output_type": "stream",
     "text": [
      "<module 'random' from '/Applications/anaconda3/lib/python3.7/random.py'>\n"
     ]
    }
   ],
   "source": [
    "#generating random numbers using random function of random module in python\n",
    "import random\n",
    "print(random)"
   ]
  },
  {
   "cell_type": "code",
   "execution_count": 31,
   "metadata": {},
   "outputs": [
    {
     "name": "stdout",
     "output_type": "stream",
     "text": [
      "0.004195329993624153\n"
     ]
    }
   ],
   "source": [
    "print(random.random()) #random function generates a random number between 0 and 1"
   ]
  },
  {
   "cell_type": "code",
   "execution_count": 32,
   "metadata": {},
   "outputs": [
    {
     "name": "stdout",
     "output_type": "stream",
     "text": [
      "3\n"
     ]
    }
   ],
   "source": [
    "print(random.randint(1,10)) #randint(a,b) generates a random integer between a and b (including a and b)"
   ]
  },
  {
   "cell_type": "code",
   "execution_count": 36,
   "metadata": {},
   "outputs": [
    {
     "name": "stdout",
     "output_type": "stream",
     "text": [
      "57.50598753211378\n",
      "58.088732716596496\n",
      "53.88837687265492\n",
      "42.366891685096796\n",
      "52.44500529107091\n",
      "49.48473138862751\n",
      "40.26056727668293\n",
      "48.822635265763765\n",
      "52.08458708367437\n",
      "56.719607437617775\n",
      "43.128243243567276\n",
      "52.900094668942536\n",
      "46.142192942078076\n",
      "54.45674013502551\n",
      "49.922709878776736\n",
      "54.37444658406579\n",
      "48.567771739087554\n",
      "48.107348667861416\n",
      "48.77928317616106\n",
      "45.09133133802894\n"
     ]
    }
   ],
   "source": [
    "#function to print a random number between a and b\n",
    "def random_range(a,b):\n",
    "    x = random.random() #this will be between 0 and 1\n",
    "    y = x * (b-a) #this will be between 0 and b-a\n",
    "    z = a + y #this will be between a and b\n",
    "    return z\n",
    "for i in range(20) :\n",
    "    print(random_range(40, 65))"
   ]
  },
  {
   "cell_type": "code",
   "execution_count": 38,
   "metadata": {},
   "outputs": [
    {
     "name": "stdout",
     "output_type": "stream",
     "text": [
      "[0, 0, 0, 0, 0, 0, 0, 0, 0, 0]\n"
     ]
    }
   ],
   "source": [
    "#intialising a list of size 10 with all zeros\n",
    "s = [0] * 10\n",
    "print(s)"
   ]
  },
  {
   "cell_type": "code",
   "execution_count": 40,
   "metadata": {},
   "outputs": [
    {
     "name": "stdout",
     "output_type": "stream",
     "text": [
      "[0.41853680106960467, 0.2885823199938523, 0.7207077918118531, 0.961385050426891, 0.02889121658699567, 0.7567450642667919, 0.5812224738085899, 0.2131742407502315, 0.3482711834849759, 0.39866856852715016, 0.4671470355920426, 0.6912402713474362, 0.2518395594038274, 0.3055472459885268, 0.8002830377594968, 0.4082458521001272, 0.11013514010512182, 0.19375682178779552, 0.3642378459494554, 0.5038412235804365]\n"
     ]
    }
   ],
   "source": [
    "#generating a list of random numbers\n",
    "def random_list(length) :\n",
    "    rand_list = [0] * length\n",
    "    for i in range(length):\n",
    "        rand_list[i] = random.random()\n",
    "    return rand_list\n",
    "print(random_list(20))"
   ]
  },
  {
   "cell_type": "code",
   "execution_count": 45,
   "metadata": {},
   "outputs": [
    {
     "name": "stdout",
     "output_type": "stream",
     "text": [
      "(21, 25, 23, 31)\n"
     ]
    }
   ],
   "source": [
    "#checking the quality of pseudo random number generator - random() of python\n",
    "def count_buckets(l):\n",
    "    bucket1, bucket2, bucket3, bucket4 = 0,0,0,0\n",
    "    for i in l:\n",
    "        if 0< i <= 0.25 :\n",
    "            bucket1 += 1\n",
    "        elif 0.25 < i <= 0.5:\n",
    "            bucket2 += 1\n",
    "        elif 0.5 < i <= 0.75:\n",
    "            bucket3 += 1\n",
    "        else :\n",
    "            bucket4 += 1\n",
    "    return bucket1, bucket2, bucket3, bucket4\n",
    "\n",
    "print(count_buckets(random_list(100)))\n",
    "            "
   ]
  },
  {
   "cell_type": "code",
   "execution_count": 62,
   "metadata": {},
   "outputs": [
    {
     "name": "stdout",
     "output_type": "stream",
     "text": [
      "[1247, 1313, 1167, 1246, 1262, 1301, 1260, 1204]\n"
     ]
    }
   ],
   "source": [
    "#generalising the previous functions to take number of buckets as a parameter\n",
    "def frequency_bucket(l,n):\n",
    "    #l = list, n = number of buckets\n",
    "    frequency = [0]*n\n",
    "    bucket_width = 1/n\n",
    "    for i in l:\n",
    "        for j in range(1,n+1):\n",
    "            if ((bucket_width * j) >= i ) :\n",
    "                frequency[j-1] += 1\n",
    "                break\n",
    "    return frequency\n",
    "l = random_list(10000)\n",
    "#print(l)\n",
    "print(frequency_bucket(l,8))"
   ]
  },
  {
   "cell_type": "code",
   "execution_count": 65,
   "metadata": {},
   "outputs": [
    {
     "name": "stdout",
     "output_type": "stream",
     "text": [
      "[1330, 1262, 1217, 1211, 1269, 1218, 1261, 1232]\n"
     ]
    }
   ],
   "source": [
    "#two for loops ... not really efficient ... \n",
    "#a better code\n",
    "def freq_buck(l,n):\n",
    "    bucket_count = [0] * n\n",
    "    for i in l:\n",
    "        bucket = int(i * n) #which bucket it belongs to \n",
    "        bucket_count[bucket] = bucket_count[bucket] + 1\n",
    "    return bucket_count\n",
    "\n",
    "l = random_list(10000)\n",
    "#l = l + [1]\n",
    "print(freq_buck(l,8))\n",
    "#the above code will not work if any element of the list l is one (1). It will result in a list index out of range error"
   ]
  },
  {
   "cell_type": "code",
   "execution_count": null,
   "metadata": {},
   "outputs": [],
   "source": []
  }
 ],
 "metadata": {
  "kernelspec": {
   "display_name": "Python 3",
   "language": "python",
   "name": "python3"
  },
  "language_info": {
   "codemirror_mode": {
    "name": "ipython",
    "version": 3
   },
   "file_extension": ".py",
   "mimetype": "text/x-python",
   "name": "python",
   "nbconvert_exporter": "python",
   "pygments_lexer": "ipython3",
   "version": "3.7.6"
  }
 },
 "nbformat": 4,
 "nbformat_minor": 4
}
