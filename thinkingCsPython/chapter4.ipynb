{
 "cells": [
  {
   "cell_type": "code",
   "execution_count": 3,
   "metadata": {},
   "outputs": [
    {
     "name": "stdout",
     "output_type": "stream",
     "text": [
      "2\n"
     ]
    }
   ],
   "source": [
    "#modulus operator - gives remainder\n",
    "x = 65\n",
    "rem = x % 7\n",
    "\n",
    "print (rem)"
   ]
  },
  {
   "cell_type": "code",
   "execution_count": 8,
   "metadata": {},
   "outputs": [
    {
     "name": "stdout",
     "output_type": "stream",
     "text": [
      "9\n",
      "2\n"
     ]
    }
   ],
   "source": [
    "x = 65\n",
    "quotient = x//7\n",
    "rem = x % 7\n",
    "print (quotient)\n",
    "print (rem)"
   ]
  },
  {
   "cell_type": "code",
   "execution_count": 11,
   "metadata": {},
   "outputs": [
    {
     "name": "stdout",
     "output_type": "stream",
     "text": [
      "3\n"
     ]
    }
   ],
   "source": [
    "#to find fourth digit of a given number\n",
    "x = 134693468\n",
    "x = x // 1000\n",
    "ans = x % 10\n",
    "print (ans)"
   ]
  },
  {
   "cell_type": "code",
   "execution_count": 27,
   "metadata": {},
   "outputs": [
    {
     "name": "stdout",
     "output_type": "stream",
     "text": [
      "10\n",
      "4.0\n"
     ]
    }
   ],
   "source": [
    "import math\n",
    "def num_of_digits(x):\n",
    "    n = 1\n",
    "    quo = x // math.pow(10,n)\n",
    "    while (quo != 0):\n",
    "        n = n+1\n",
    "        quo = x // math.pow(10,n)\n",
    "    \n",
    "    return n\n",
    "\n",
    "def digit_n(x,n):\n",
    "    divisor = math.pow(10,n-1)\n",
    "    y = x//divisor\n",
    "    nth_digit = y % 10\n",
    "    return (nth_digit)\n",
    "\n",
    "number = 1047444874\n",
    "\n",
    "print (num_of_digits(number))\n",
    "print((digit_n(number,4)))\n",
    "\n",
    "    "
   ]
  },
  {
   "cell_type": "code",
   "execution_count": 29,
   "metadata": {},
   "outputs": [
    {
     "name": "stdout",
     "output_type": "stream",
     "text": [
      "yes\n"
     ]
    }
   ],
   "source": [
    "#logical operators\n",
    "#any non zero number is interpreted as true\n",
    "#and or not\n",
    "while(1):\n",
    "    print(\"yes\")\n",
    "    break"
   ]
  },
  {
   "cell_type": "code",
   "execution_count": 30,
   "metadata": {},
   "outputs": [
    {
     "name": "stdout",
     "output_type": "stream",
     "text": [
      "true\n"
     ]
    }
   ],
   "source": [
    "if (0):\n",
    "    print('false')\n",
    "else:\n",
    "    print ('true')"
   ]
  },
  {
   "cell_type": "code",
   "execution_count": 32,
   "metadata": {},
   "outputs": [
    {
     "name": "stdout",
     "output_type": "stream",
     "text": [
      "467 is odd\n"
     ]
    }
   ],
   "source": [
    "#finding out if a number is even or odd \n",
    "def isEven(x):\n",
    "    if (x%2 == 0):\n",
    "        print (x , \"is even\")\n",
    "    else:\n",
    "        print (x , \"is odd\")\n",
    "    return None\n",
    "\n",
    "isEven(467)\n"
   ]
  },
  {
   "cell_type": "code",
   "execution_count": 34,
   "metadata": {},
   "outputs": [
    {
     "name": "stdout",
     "output_type": "stream",
     "text": [
      "0\n",
      "1\n"
     ]
    }
   ],
   "source": [
    "#pass vs continue \n",
    "for i in range(3):\n",
    "    if (i == 2) :\n",
    "        continue\n",
    "    print(i)"
   ]
  },
  {
   "cell_type": "code",
   "execution_count": 35,
   "metadata": {},
   "outputs": [
    {
     "name": "stdout",
     "output_type": "stream",
     "text": [
      "0\n",
      "1\n",
      "2\n"
     ]
    }
   ],
   "source": [
    "#pass vs continue \n",
    "for i in range(3):\n",
    "    if (i == 2) :\n",
    "        pass\n",
    "    print(i)"
   ]
  },
  {
   "cell_type": "code",
   "execution_count": 36,
   "metadata": {},
   "outputs": [
    {
     "name": "stdout",
     "output_type": "stream",
     "text": [
      "56 is lesser than 78\n",
      "54 is greater than 53\n",
      "5 and 5 are equal\n"
     ]
    }
   ],
   "source": [
    "def compare(x,y):\n",
    "    if x > y :\n",
    "        print(x, \"is greater than\", y)\n",
    "    elif x < y :\n",
    "        print(x ,\"is lesser than\",y)\n",
    "    else:\n",
    "        print(x , \"and\", y, \"are equal\")\n",
    "    return None\n",
    "\n",
    "compare(56, 78)\n",
    "compare(54, 53)\n",
    "compare(5,5)"
   ]
  },
  {
   "cell_type": "code",
   "execution_count": 39,
   "metadata": {},
   "outputs": [
    {
     "name": "stdout",
     "output_type": "stream",
     "text": [
      "56 is lesser than 78\n",
      "54 is greater than 53\n",
      "5 and 5 are equal\n"
     ]
    }
   ],
   "source": [
    "#previous example using nested conditions\n",
    "def compare2(x,y):\n",
    "    if (x == y):\n",
    "        print(x, \"and\", y, \"are equal\")\n",
    "    else :\n",
    "        if (x > y):\n",
    "            print(x , \"is greater than\", y)\n",
    "        else :\n",
    "            print(x, \"is lesser than\", y)\n",
    "            \n",
    "    return None\n",
    "\n",
    "compare(56, 78)\n",
    "compare(54, 53)\n",
    "compare(5,5)"
   ]
  },
  {
   "cell_type": "code",
   "execution_count": 40,
   "metadata": {},
   "outputs": [
    {
     "name": "stdout",
     "output_type": "stream",
     "text": [
      "9 is a positive single digit\n"
     ]
    }
   ],
   "source": [
    "x = 9 \n",
    "if (0 < x < 10) :\n",
    "    print(x, \"is a positive single digit\")\n"
   ]
  },
  {
   "cell_type": "code",
   "execution_count": 42,
   "metadata": {},
   "outputs": [
    {
     "name": "stdout",
     "output_type": "stream",
     "text": [
      "2.302585092994046\n",
      "Please enter a non negative number\n"
     ]
    }
   ],
   "source": [
    "#function to find logarithm of a non negative number\n",
    "import math\n",
    "def logarithm(x):\n",
    "    if (x > 0):\n",
    "        result = math.log(x)\n",
    "    else :\n",
    "        result = \"Please enter a non negative number\"\n",
    "    return result\n",
    "print(logarithm(10))\n",
    "print(logarithm(-10))\n"
   ]
  },
  {
   "cell_type": "code",
   "execution_count": 45,
   "metadata": {},
   "outputs": [
    {
     "name": "stdout",
     "output_type": "stream",
     "text": [
      "20\n",
      "40\n",
      "42\n",
      "27\n"
     ]
    }
   ],
   "source": [
    "#recursion example - multiplying without using *\n",
    "def multiply(a, b):\n",
    "    if b == 0:\n",
    "        return 0\n",
    "    else :\n",
    "        return a + multiply(a,b-1)\n",
    "print(multiply(5,4))\n",
    "print(multiply(10,4))\n",
    "print(multiply(7,6))\n",
    "print(multiply(3,9))"
   ]
  },
  {
   "cell_type": "code",
   "execution_count": 47,
   "metadata": {},
   "outputs": [
    {
     "name": "stdout",
     "output_type": "stream",
     "text": [
      "10\n",
      "9\n",
      "8\n",
      "7\n",
      "6\n",
      "5\n",
      "4\n",
      "3\n",
      "2\n",
      "1\n",
      "Happy New Year!!!\n"
     ]
    }
   ],
   "source": [
    "#new year countdown\n",
    "def countdown(n) :\n",
    "    if n == 0:\n",
    "        print(\"Happy New Year!!!\")\n",
    "    else :\n",
    "        print(n)\n",
    "        countdown(n-1)\n",
    "    return None\n",
    "countdown(10)"
   ]
  },
  {
   "cell_type": "code",
   "execution_count": 57,
   "metadata": {},
   "outputs": [
    {
     "name": "stdout",
     "output_type": "stream",
     "text": [
      "Enter a happy message for our coder!\n",
      "Happy coding!\n",
      "The user said Happy coding!\n",
      "<class 'str'>\n"
     ]
    }
   ],
   "source": [
    "message = input(\"Enter a happy message for our coder!\\n\")\n",
    "print(\"The user said\", message)\n",
    "print(type(message))"
   ]
  },
  {
   "cell_type": "code",
   "execution_count": null,
   "metadata": {},
   "outputs": [],
   "source": []
  }
 ],
 "metadata": {
  "kernelspec": {
   "display_name": "Python 3",
   "language": "python",
   "name": "python3"
  },
  "language_info": {
   "codemirror_mode": {
    "name": "ipython",
    "version": 3
   },
   "file_extension": ".py",
   "mimetype": "text/x-python",
   "name": "python",
   "nbconvert_exporter": "python",
   "pygments_lexer": "ipython3",
   "version": "3.7.6"
  }
 },
 "nbformat": 4,
 "nbformat_minor": 4
}
