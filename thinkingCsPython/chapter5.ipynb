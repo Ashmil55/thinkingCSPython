{
 "cells": [
  {
   "cell_type": "markdown",
   "metadata": {},
   "source": [
    "Chapter 5 : Fruitful functions"
   ]
  },
  {
   "cell_type": "code",
   "execution_count": 3,
   "metadata": {},
   "outputs": [
    {
     "name": "stdout",
     "output_type": "stream",
     "text": [
      "5.0\n"
     ]
    }
   ],
   "source": [
    "#functions are more useful when they return a value\n",
    "import math\n",
    "def height(radius, angle):\n",
    "    return radius * math.sin(math.pi/2)\n",
    "\n",
    "print(height(5, 90))\n",
    "    "
   ]
  },
  {
   "cell_type": "code",
   "execution_count": 7,
   "metadata": {},
   "outputs": [
    {
     "name": "stdout",
     "output_type": "stream",
     "text": [
      "78.53981633974483\n"
     ]
    }
   ],
   "source": [
    "#area of a circle\n",
    "def area_circle(radius):\n",
    "    return math.pi * radius**2\n",
    "print(area_circle(5))"
   ]
  },
  {
   "cell_type": "code",
   "execution_count": 12,
   "metadata": {},
   "outputs": [
    {
     "name": "stdout",
     "output_type": "stream",
     "text": [
      "7980\n"
     ]
    }
   ],
   "source": [
    "#return absolute value\n",
    "def absolute(x):\n",
    "    if x < 0:\n",
    "        return -x\n",
    "    else :\n",
    "        return x\n",
    "print(absolute(-7980))"
   ]
  },
  {
   "cell_type": "code",
   "execution_count": 17,
   "metadata": {},
   "outputs": [
    {
     "data": {
      "text/plain": [
       "0"
      ]
     },
     "execution_count": 17,
     "metadata": {},
     "output_type": "execute_result"
    }
   ],
   "source": [
    "#compare function : x > y -> 1; x == y -> 0; x < y -> -1\n",
    "def compare(x,y):\n",
    "    if (x > y) :\n",
    "        return 1\n",
    "    elif (x < y):\n",
    "        return -1\n",
    "    else:\n",
    "        return 0\n",
    "compare(7,7)"
   ]
  },
  {
   "cell_type": "code",
   "execution_count": 28,
   "metadata": {},
   "outputs": [],
   "source": [
    "#distance between two points\n",
    "def pyth_distance(x1, y1, x2, y2):\n",
    "    return math.sqrt((x1 - x2)**2 + (y1 - y2)**2)\n"
   ]
  },
  {
   "cell_type": "code",
   "execution_count": 30,
   "metadata": {},
   "outputs": [
    {
     "data": {
      "text/plain": [
       "5.0"
      ]
     },
     "execution_count": 30,
     "metadata": {},
     "output_type": "execute_result"
    }
   ],
   "source": [
    "pyth_distance(1,2,4,6)"
   ]
  },
  {
   "cell_type": "code",
   "execution_count": 35,
   "metadata": {
    "scrolled": true
   },
   "outputs": [
    {
     "data": {
      "text/plain": [
       "78.53981633974483"
      ]
     },
     "execution_count": 35,
     "metadata": {},
     "output_type": "execute_result"
    }
   ],
   "source": [
    "#area of the circle using center and point on the circle\n",
    "def area_circle2(xc,yc,xp,yp):\n",
    "    #using already created functions\n",
    "    return  area_circle(pyth_distance(xc,yc,xp,yp))\n",
    "\n",
    "area_circle2(0,0,4,3)\n"
   ]
  },
  {
   "cell_type": "code",
   "execution_count": 36,
   "metadata": {},
   "outputs": [
    {
     "data": {
      "text/plain": [
       "10.0"
      ]
     },
     "execution_count": 36,
     "metadata": {},
     "output_type": "execute_result"
    }
   ],
   "source": [
    "#finding slope of line\n",
    "def line_slope(x1,y1,x2,y2):\n",
    "    return (y2-y1)/(x2-x1)\n",
    "\n",
    "#finding y-intercept\n",
    "def line_yint(x1,y1,x2,y2):\n",
    "    return y1 - (line_slope(x1,y1,x2,y2) * x1)\n",
    "\n",
    "line_yint(3,4,2,6)"
   ]
  },
  {
   "cell_type": "code",
   "execution_count": 39,
   "metadata": {},
   "outputs": [
    {
     "name": "stdout",
     "output_type": "stream",
     "text": [
      "True\n",
      "False\n",
      "False\n"
     ]
    }
   ],
   "source": [
    "#functions returning boolean values -> boolean functions \n",
    "#determining if x is divisible by y\n",
    "def isDivisible(x,y):\n",
    "    return (x%y == 0)\n",
    "print(isDivisible(10,2))\n",
    "print(isDivisible(5,2))\n",
    "print(isDivisible(6,4))"
   ]
  },
  {
   "cell_type": "code",
   "execution_count": 42,
   "metadata": {},
   "outputs": [
    {
     "data": {
      "text/plain": [
       "True"
      ]
     },
     "execution_count": 42,
     "metadata": {},
     "output_type": "execute_result"
    }
   ],
   "source": [
    "#is between function\n",
    "#return true if y <= x <= z\n",
    "def isBetween(x,y,z):\n",
    "    return (y <= x <= z)\n",
    "\n",
    "isBetween(8,6,10)"
   ]
  },
  {
   "cell_type": "code",
   "execution_count": 45,
   "metadata": {},
   "outputs": [
    {
     "data": {
      "text/plain": [
       "24"
      ]
     },
     "execution_count": 45,
     "metadata": {},
     "output_type": "execute_result"
    }
   ],
   "source": [
    "#recursive functions \n",
    "#factorial \n",
    "def factorial(n):\n",
    "    if (n==0) :\n",
    "        return 1\n",
    "    else : \n",
    "        return n*factorial(n-1)\n",
    "factorial(4)"
   ]
  },
  {
   "cell_type": "code",
   "execution_count": 48,
   "metadata": {},
   "outputs": [
    {
     "data": {
      "text/plain": [
       "3"
      ]
     },
     "execution_count": 48,
     "metadata": {},
     "output_type": "execute_result"
    }
   ],
   "source": [
    "#fibonacci function\n",
    "def fibo(n) :\n",
    "    if n==0 or n==1 :\n",
    "        return 1\n",
    "    else:\n",
    "        return fibo(n-2)+fibo(n-1)\n",
    "fibo(3)"
   ]
  },
  {
   "cell_type": "code",
   "execution_count": 60,
   "metadata": {},
   "outputs": [
    {
     "data": {
      "text/plain": [
       "24"
      ]
     },
     "execution_count": 60,
     "metadata": {},
     "output_type": "execute_result"
    }
   ],
   "source": [
    "#modiying factorial by checking types :\n",
    "def fact2(n):\n",
    "    #using isinstance property to check the type\n",
    "    if (not(isinstance(n,int))):\n",
    "        print(\"Factorial is not defined for fractions\")\n",
    "        return -1\n",
    "    elif n < 0:\n",
    "        print(\"Factorial is not defined for negative numbers\")\n",
    "        return -1\n",
    "    elif n == 0:\n",
    "        return 1\n",
    "    else :\n",
    "        return n*fact2(n-1)\n",
    "    \n",
    "fact2(4)\n",
    "        "
   ]
  },
  {
   "cell_type": "code",
   "execution_count": null,
   "metadata": {},
   "outputs": [],
   "source": []
  }
 ],
 "metadata": {
  "kernelspec": {
   "display_name": "Python 3",
   "language": "python",
   "name": "python3"
  },
  "language_info": {
   "codemirror_mode": {
    "name": "ipython",
    "version": 3
   },
   "file_extension": ".py",
   "mimetype": "text/x-python",
   "name": "python",
   "nbconvert_exporter": "python",
   "pygments_lexer": "ipython3",
   "version": "3.7.6"
  }
 },
 "nbformat": 4,
 "nbformat_minor": 4
}
