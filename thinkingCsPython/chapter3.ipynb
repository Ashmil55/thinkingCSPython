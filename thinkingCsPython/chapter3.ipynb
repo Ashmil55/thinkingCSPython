{
 "cells": [
  {
   "cell_type": "markdown",
   "metadata": {},
   "source": [
    "Chatper 3 : Functions"
   ]
  },
  {
   "cell_type": "code",
   "execution_count": 1,
   "metadata": {},
   "outputs": [
    {
     "name": "stdout",
     "output_type": "stream",
     "text": [
      "<class 'float'>\n"
     ]
    }
   ],
   "source": [
    "a = type(4.5) #type is function which takes an argument (here 4.5)\n",
    "#we have assigned the return value of the function type to a variable\n",
    "print(a)"
   ]
  },
  {
   "cell_type": "code",
   "execution_count": 13,
   "metadata": {},
   "outputs": [
    {
     "name": "stdout",
     "output_type": "stream",
     "text": [
      "4498373040\n",
      "467.89\n",
      "4498373040\n"
     ]
    }
   ],
   "source": [
    "# a new function - id \n",
    "x = 467.89\n",
    "print(id(x)) #everytime we run this script, id(x) returns a new value\n",
    "id_x = id(x)\n",
    "print(x)\n",
    "print(id_x) "
   ]
  },
  {
   "cell_type": "code",
   "execution_count": 15,
   "metadata": {},
   "outputs": [
    {
     "name": "stdout",
     "output_type": "stream",
     "text": [
      "<class 'float'>\n",
      "4.5\n",
      "4\n"
     ]
    }
   ],
   "source": [
    "#type conversion functions \n",
    "y = 4.5\n",
    "\n",
    "print(type(y))\n",
    "\n",
    "z = int(y)\n",
    "\n",
    "print(y)\n",
    "print(z)"
   ]
  },
  {
   "cell_type": "code",
   "execution_count": 21,
   "metadata": {},
   "outputs": [
    {
     "name": "stdout",
     "output_type": "stream",
     "text": [
      "<class 'str'>\n",
      "10.4\n",
      "10\n"
     ]
    }
   ],
   "source": [
    "greeting = \"10.4\"\n",
    "\n",
    "print (type(greeting))\n",
    "\n",
    "float_greeting = float(greeting)\n",
    "\n",
    "print(float_greeting)\n",
    "\n",
    "int_greeting = int(float_greeting)\n",
    "\n",
    "print(int_greeting)"
   ]
  },
  {
   "cell_type": "code",
   "execution_count": 74,
   "metadata": {},
   "outputs": [
    {
     "name": "stdout",
     "output_type": "stream",
     "text": [
      "<class 'int'>\n",
      "78.0\n",
      "<class 'float'>\n"
     ]
    }
   ],
   "source": [
    "integer = 78\n",
    "\n",
    "print(type(integer))\n",
    "\n",
    "float_integer = float(integer)\n",
    "\n",
    "print(float_integer)\n",
    "print(type(float_integer))"
   ]
  },
  {
   "cell_type": "markdown",
   "metadata": {},
   "source": [
    "# DOUBT HERE!"
   ]
  },
  {
   "cell_type": "code",
   "execution_count": 32,
   "metadata": {},
   "outputs": [
    {
     "name": "stdout",
     "output_type": "stream",
     "text": [
      "0.6629213483146067\n",
      "-1\n"
     ]
    }
   ],
   "source": [
    "#integer division - what actually happens? \n",
    "x = 59/89\n",
    "print (x)\n",
    "\n",
    "print(-1//2)"
   ]
  },
  {
   "cell_type": "code",
   "execution_count": 50,
   "metadata": {},
   "outputs": [
    {
     "name": "stdout",
     "output_type": "stream",
     "text": [
      "0.95\n"
     ]
    }
   ],
   "source": [
    "#we have seen type conversion\n",
    "#type coercion is when python automatically changes the data type of an operand for that particular operation\n",
    "#to match it with the data type of other operand\n",
    "#example below :\n",
    "\n",
    "mins = 57 \n",
    "\n",
    "print(mins/60.0) #mins is coverted to float for this operation since 60.0 is a floating point number\n",
    "\n"
   ]
  },
  {
   "cell_type": "code",
   "execution_count": 53,
   "metadata": {},
   "outputs": [
    {
     "name": "stdout",
     "output_type": "stream",
     "text": [
      "7921.0\n",
      "7921.0\n"
     ]
    }
   ],
   "source": [
    "#we have seen type() and id() functions\n",
    "#python has an inbuilt math module with has many useful functions \n",
    "#module is a file that contains many of the related functions grouped together\n",
    "\n",
    "x = 89\n",
    "sq_root_x = math.pow(x,2)\n",
    "print(sq_root_x)\n",
    "square_x = math.pow(x,2)\n",
    "print(square_x)"
   ]
  },
  {
   "cell_type": "code",
   "execution_count": 55,
   "metadata": {},
   "outputs": [
    {
     "name": "stdout",
     "output_type": "stream",
     "text": [
      "704969.0\n"
     ]
    }
   ],
   "source": [
    "print(pow(x,3))"
   ]
  },
  {
   "cell_type": "code",
   "execution_count": 58,
   "metadata": {},
   "outputs": [
    {
     "name": "stdout",
     "output_type": "stream",
     "text": [
      "1.6532125137753437\n"
     ]
    }
   ],
   "source": [
    "print(math.log10(45)) #log by default used base e ... so log10 for base 10"
   ]
  },
  {
   "cell_type": "code",
   "execution_count": 59,
   "metadata": {},
   "outputs": [
    {
     "name": "stdout",
     "output_type": "stream",
     "text": [
      "2.0\n"
     ]
    }
   ],
   "source": [
    "print(math.log10(100))"
   ]
  },
  {
   "cell_type": "code",
   "execution_count": 61,
   "metadata": {},
   "outputs": [
    {
     "name": "stdout",
     "output_type": "stream",
     "text": [
      "1.0\n"
     ]
    }
   ],
   "source": [
    "print(math.log(math.e))"
   ]
  },
  {
   "cell_type": "code",
   "execution_count": 62,
   "metadata": {},
   "outputs": [
    {
     "name": "stdout",
     "output_type": "stream",
     "text": [
      "1.0\n"
     ]
    }
   ],
   "source": [
    "print(math.sin(math.pi/2))"
   ]
  },
  {
   "cell_type": "code",
   "execution_count": 72,
   "metadata": {},
   "outputs": [
    {
     "name": "stdout",
     "output_type": "stream",
     "text": [
      "-1.0\n"
     ]
    }
   ],
   "source": [
    "print(math.sin(3*math.pi/2))"
   ]
  },
  {
   "cell_type": "markdown",
   "metadata": {},
   "source": [
    "# DOUBT HERE!"
   ]
  },
  {
   "cell_type": "code",
   "execution_count": 71,
   "metadata": {},
   "outputs": [
    {
     "name": "stdout",
     "output_type": "stream",
     "text": [
      "100.55999999999996\n"
     ]
    }
   ],
   "source": [
    "print(math.pow(math.e,math.log(100.56)))"
   ]
  },
  {
   "cell_type": "code",
   "execution_count": 90,
   "metadata": {},
   "outputs": [
    {
     "name": "stdout",
     "output_type": "stream",
     "text": [
      "Hello world\n",
      "\n",
      "\n",
      "\n",
      "I am ashmil\n"
     ]
    }
   ],
   "source": [
    "def newline():\n",
    "    print()\n",
    "def three_newlines():\n",
    "    newline()\n",
    "    newline()\n",
    "    newline()\n",
    "    return None\n",
    "    \n",
    "\n",
    "print(\"Hello world\")\n",
    "three_newlines()\n",
    "print(\"I am ashmil\")"
   ]
  },
  {
   "cell_type": "code",
   "execution_count": 103,
   "metadata": {},
   "outputs": [
    {
     "name": "stdout",
     "output_type": "stream",
     "text": [
      "'Spam'*4 'Spam'*4\n",
      "hi hi\n",
      "None\n"
     ]
    }
   ],
   "source": [
    "def printTwice(x):\n",
    "    print(x,x)\n",
    "stringVariable = \"'Spam'*4\"\n",
    "printTwice(stringVariable)\n",
    "\n",
    "a = printTwice(\"hi\")\n",
    "print(a) #because printTwice() does not return anything (by default it is returning None of NoneType)"
   ]
  }
 ],
 "metadata": {
  "kernelspec": {
   "display_name": "Python 3",
   "language": "python",
   "name": "python3"
  },
  "language_info": {
   "codemirror_mode": {
    "name": "ipython",
    "version": 3
   },
   "file_extension": ".py",
   "mimetype": "text/x-python",
   "name": "python",
   "nbconvert_exporter": "python",
   "pygments_lexer": "ipython3",
   "version": "3.7.6"
  }
 },
 "nbformat": 4,
 "nbformat_minor": 4
}
