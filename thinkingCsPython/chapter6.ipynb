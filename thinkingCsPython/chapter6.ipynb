{
 "cells": [
  {
   "cell_type": "markdown",
   "metadata": {},
   "source": [
    "Chapter 6 : Iteration"
   ]
  },
  {
   "cell_type": "code",
   "execution_count": 9,
   "metadata": {},
   "outputs": [
    {
     "name": "stdout",
     "output_type": "stream",
     "text": [
      "10\n",
      "9\n",
      "8\n",
      "7\n",
      "6\n",
      "5\n",
      "4\n",
      "3\n",
      "2\n",
      "1\n",
      "Happy new year!!\n"
     ]
    }
   ],
   "source": [
    "#countdown program using iteration\n",
    "#i = 10\n",
    "def countdown(n):\n",
    "    while (n != 0):\n",
    "        print(n)\n",
    "        n -= 1\n",
    "    print(\"Happy new year!!\")\n",
    "    return None\n",
    "countdown(10)"
   ]
  },
  {
   "cell_type": "code",
   "execution_count": 11,
   "metadata": {},
   "outputs": [
    {
     "name": "stdout",
     "output_type": "stream",
     "text": [
      "10 \t 1024\n",
      "9 \t 512\n",
      "8 \t 256\n",
      "7 \t 128\n",
      "6 \t 64\n",
      "5 \t 32\n",
      "4 \t 16\n",
      "3 \t 8\n",
      "2 \t 4\n",
      "1 \t 2\n"
     ]
    }
   ],
   "source": [
    "#log values of powers of two \n",
    "def logtable(n):\n",
    "    while n > 0:\n",
    "        print(n, '\\t', 2**n)\n",
    "        n -= 1\n",
    "    return None\n",
    "logtable(10)"
   ]
  },
  {
   "cell_type": "code",
   "execution_count": 13,
   "metadata": {},
   "outputs": [
    {
     "name": "stdout",
     "output_type": "stream",
     "text": [
      "produces\n",
      "\tthis\n",
      "\n",
      "\t\toutput\n"
     ]
    }
   ],
   "source": [
    "#testing escape characters \\t and \\n\n",
    "print(\"produces\\n\\tthis\\n\\n\\t\\toutput\")"
   ]
  },
  {
   "cell_type": "code",
   "execution_count": 36,
   "metadata": {},
   "outputs": [
    {
     "name": "stdout",
     "output_type": "stream",
     "text": [
      "\t 1\t 2\t 3\t 4\t 5\t 6\t 7\t 8\t 9\t 10\n",
      "1\t 1\t 2\t 3\t 4\t 5\t 6\t 7\t 8\t 9\t 10\n",
      "2\t 2\t 4\t 6\t 8\t 10\t 12\t 14\t 16\t 18\t 20\n",
      "3\t 3\t 6\t 9\t 12\t 15\t 18\t 21\t 24\t 27\t 30\n",
      "4\t 4\t 8\t 12\t 16\t 20\t 24\t 28\t 32\t 36\t 40\n",
      "5\t 5\t 10\t 15\t 20\t 25\t 30\t 35\t 40\t 45\t 50\n",
      "6\t 6\t 12\t 18\t 24\t 30\t 36\t 42\t 48\t 54\t 60\n",
      "7\t 7\t 14\t 21\t 28\t 35\t 42\t 49\t 56\t 63\t 70\n",
      "8\t 8\t 16\t 24\t 32\t 40\t 48\t 56\t 64\t 72\t 80\n",
      "9\t 9\t 18\t 27\t 36\t 45\t 54\t 63\t 72\t 81\t 90\n",
      "10\t 10\t 20\t 30\t 40\t 50\t 60\t 70\t 80\t 90\t 100\n"
     ]
    }
   ],
   "source": [
    "#2D tables - multiplication example\n",
    "def print_multiples(n):\n",
    "    i = 1\n",
    "    while(i <= n):\n",
    "        print(i, end =''), \n",
    "        j = 1\n",
    "        while(j <= n):\n",
    "            print(\"\\t\", i*j,end ='')\n",
    "            j += 1\n",
    "        print()\n",
    "        i += 1\n",
    "    return None\n",
    "def multiply(n):\n",
    "    k = 1\n",
    "    while(k <= n):\n",
    "        print('\\t',k,end='')\n",
    "        k += 1\n",
    "    print()\n",
    "    print_multiples(n)\n",
    "    return None\n",
    "multiply(10)"
   ]
  },
  {
   "cell_type": "code",
   "execution_count": null,
   "metadata": {},
   "outputs": [],
   "source": []
  }
 ],
 "metadata": {
  "kernelspec": {
   "display_name": "Python 3",
   "language": "python",
   "name": "python3"
  },
  "language_info": {
   "codemirror_mode": {
    "name": "ipython",
    "version": 3
   },
   "file_extension": ".py",
   "mimetype": "text/x-python",
   "name": "python",
   "nbconvert_exporter": "python",
   "pygments_lexer": "ipython3",
   "version": "3.7.6"
  }
 },
 "nbformat": 4,
 "nbformat_minor": 4
}
