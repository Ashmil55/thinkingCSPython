{
 "cells": [
  {
   "cell_type": "markdown",
   "metadata": {},
   "source": [
    "Chapter 7 : Strings and Chapter 8 : Lists"
   ]
  },
  {
   "cell_type": "code",
   "execution_count": 19,
   "metadata": {},
   "outputs": [
    {
     "name": "stdout",
     "output_type": "stream",
     "text": [
      "string\n",
      "s\n",
      "g\n",
      "s\n",
      "str\n",
      "n\n"
     ]
    }
   ],
   "source": [
    "#strings\n",
    "#primary data types ...compound data types\n",
    "#strings made up of characters\n",
    "x = 'string'\n",
    "print(x)\n",
    "print(x[2-2])\n",
    "print(x[-1])\n",
    "print(x[-6])\n",
    "print(x[0:3]) #slicing strings\n",
    "print(x[4*1])#the index can also be an expression that evaluates to a number lesser than or equal to the lenght of string"
   ]
  },
  {
   "cell_type": "code",
   "execution_count": 22,
   "metadata": {},
   "outputs": [
    {
     "name": "stdout",
     "output_type": "stream",
     "text": [
      "12\n"
     ]
    }
   ],
   "source": [
    "#exploring the length function\n",
    "string = \"Hello world!\"\n",
    "print(len(string))"
   ]
  },
  {
   "cell_type": "code",
   "execution_count": 23,
   "metadata": {},
   "outputs": [
    {
     "name": "stdout",
     "output_type": "stream",
     "text": [
      "!\n"
     ]
    }
   ],
   "source": [
    "print(string[len(string) - 1])"
   ]
  },
  {
   "cell_type": "code",
   "execution_count": 24,
   "metadata": {},
   "outputs": [
    {
     "ename": "IndexError",
     "evalue": "string index out of range",
     "output_type": "error",
     "traceback": [
      "\u001b[0;31m---------------------------------------------------------------------------\u001b[0m",
      "\u001b[0;31mIndexError\u001b[0m                                Traceback (most recent call last)",
      "\u001b[0;32m<ipython-input-24-36db9f327fe2>\u001b[0m in \u001b[0;36m<module>\u001b[0;34m\u001b[0m\n\u001b[0;32m----> 1\u001b[0;31m \u001b[0mprint\u001b[0m\u001b[0;34m(\u001b[0m\u001b[0mstring\u001b[0m\u001b[0;34m[\u001b[0m\u001b[0mlen\u001b[0m\u001b[0;34m(\u001b[0m\u001b[0mstring\u001b[0m\u001b[0;34m)\u001b[0m\u001b[0;34m]\u001b[0m\u001b[0;34m)\u001b[0m\u001b[0;34m\u001b[0m\u001b[0;34m\u001b[0m\u001b[0m\n\u001b[0m",
      "\u001b[0;31mIndexError\u001b[0m: string index out of range"
     ]
    }
   ],
   "source": [
    "print(string[len(string)])#since indexing starts from 0, s[len(s)] will give us index out of range error"
   ]
  },
  {
   "cell_type": "code",
   "execution_count": 31,
   "metadata": {},
   "outputs": [
    {
     "name": "stdout",
     "output_type": "stream",
     "text": [
      "H e l l o   w o r l d ! \n",
      "! d l r o w   o l l e H "
     ]
    }
   ],
   "source": [
    "#string traversal using for loop\n",
    "#first lets use while loop\n",
    "index = 0\n",
    "while index < len(string) :\n",
    "    print(string[index], end=' ')\n",
    "    index += 1\n",
    "#printing string backwards\n",
    "print()\n",
    "index = len(string) - 1\n",
    "while index >= 0:\n",
    "    print(string[index], end = ' ')\n",
    "    index -= 1"
   ]
  },
  {
   "cell_type": "code",
   "execution_count": 29,
   "metadata": {},
   "outputs": [
    {
     "name": "stdout",
     "output_type": "stream",
     "text": [
      "H e l l o   w o r l d ! "
     ]
    }
   ],
   "source": [
    "#now using for loop -> much simpler \n",
    "for i in string:\n",
    "    print(i, end=' ')"
   ]
  },
  {
   "cell_type": "code",
   "execution_count": 33,
   "metadata": {},
   "outputs": [
    {
     "name": "stdout",
     "output_type": "stream",
     "text": [
      "Jack\n",
      "Kack\n",
      "Lack\n",
      "Mack\n",
      "Nack\n",
      "Ouack\n",
      "Pack\n",
      "Quack\n"
     ]
    }
   ],
   "source": [
    "#Abecedarian series\n",
    "prefix = 'JKLMNOPQ'\n",
    "suffix = 'ack'\n",
    "for p in prefix :\n",
    "    if ((p == 'O') or (p == 'Q')):\n",
    "        print(p+'u'+suffix)\n",
    "    else:\n",
    "        print(p+suffix)"
   ]
  },
  {
   "cell_type": "code",
   "execution_count": 36,
   "metadata": {},
   "outputs": [
    {
     "name": "stdout",
     "output_type": "stream",
     "text": [
      "Hello world!\n"
     ]
    }
   ],
   "source": [
    "#string slicing\n",
    "print(string[0:len(string)]) #s[m:n] includes s[m] but excludes s[n]"
   ]
  },
  {
   "cell_type": "code",
   "execution_count": 41,
   "metadata": {},
   "outputs": [
    {
     "name": "stdout",
     "output_type": "stream",
     "text": [
      "False\n",
      "True\n"
     ]
    }
   ],
   "source": [
    "#comparing strings\n",
    "string1 = \"hello\"\n",
    "string2 =  \"Hello\"\n",
    "print(string1 == string2)\n",
    "print(string1 == string2.lower())"
   ]
  },
  {
   "cell_type": "code",
   "execution_count": 49,
   "metadata": {},
   "outputs": [
    {
     "name": "stdout",
     "output_type": "stream",
     "text": [
      "Enter your first word: truth\n",
      "Enter your second word: false\n",
      "false comes before truth in a dictionary\n"
     ]
    }
   ],
   "source": [
    "# < and > check for alphabetical order \n",
    "word1 = input(\"Enter your first word: \").lower()\n",
    "word2 = input(\"Enter your second word: \").lower()\n",
    "if word1 < word2 :\n",
    "    print(word1, \"comes before\", word2, \"in a dictionary\")\n",
    "elif word1 > word2 :\n",
    "    print(word2, \"comes before\", word1, \"in a dictionary\")\n",
    "else:\n",
    "    print(word1, \"and\", word2, \"are equal\")"
   ]
  },
  {
   "cell_type": "code",
   "execution_count": 51,
   "metadata": {},
   "outputs": [
    {
     "name": "stdout",
     "output_type": "stream",
     "text": [
      "Hello everyone!\n"
     ]
    }
   ],
   "source": [
    "#immutability of strings\n",
    "greeting = \"Hello everyone!\"\n",
    "print(greeting)"
   ]
  },
  {
   "cell_type": "code",
   "execution_count": 53,
   "metadata": {},
   "outputs": [
    {
     "name": "stdout",
     "output_type": "stream",
     "text": [
      "Hello all!\n"
     ]
    }
   ],
   "source": [
    "greeting = \"Hello all!\"\n",
    "print(greeting)"
   ]
  },
  {
   "cell_type": "code",
   "execution_count": 54,
   "metadata": {},
   "outputs": [
    {
     "ename": "TypeError",
     "evalue": "'str' object does not support item assignment",
     "output_type": "error",
     "traceback": [
      "\u001b[0;31m---------------------------------------------------------------------------\u001b[0m",
      "\u001b[0;31mTypeError\u001b[0m                                 Traceback (most recent call last)",
      "\u001b[0;32m<ipython-input-54-4ba51c3fa485>\u001b[0m in \u001b[0;36m<module>\u001b[0;34m\u001b[0m\n\u001b[0;32m----> 1\u001b[0;31m \u001b[0mgreeting\u001b[0m\u001b[0;34m[\u001b[0m\u001b[0;36m0\u001b[0m\u001b[0;34m]\u001b[0m \u001b[0;34m=\u001b[0m \u001b[0;34m'F'\u001b[0m\u001b[0;34m\u001b[0m\u001b[0;34m\u001b[0m\u001b[0m\n\u001b[0m\u001b[1;32m      2\u001b[0m \u001b[0mprint\u001b[0m\u001b[0;34m(\u001b[0m\u001b[0mgreeting\u001b[0m\u001b[0;34m)\u001b[0m\u001b[0;34m\u001b[0m\u001b[0;34m\u001b[0m\u001b[0m\n",
      "\u001b[0;31mTypeError\u001b[0m: 'str' object does not support item assignment"
     ]
    }
   ],
   "source": [
    "greeting[0] = 'F'\n",
    "print(greeting)"
   ]
  },
  {
   "cell_type": "code",
   "execution_count": 56,
   "metadata": {},
   "outputs": [
    {
     "name": "stdout",
     "output_type": "stream",
     "text": [
      "Fello all!\n"
     ]
    }
   ],
   "source": [
    "greeting = 'F' + greeting[1:]\n",
    "print(greeting)"
   ]
  },
  {
   "cell_type": "code",
   "execution_count": 58,
   "metadata": {},
   "outputs": [
    {
     "name": "stdout",
     "output_type": "stream",
     "text": [
      "4\n"
     ]
    }
   ],
   "source": [
    "#function to find the index of a character in a string\n",
    "#returns the first instance when the character is found if the character is present multiple times\n",
    "def find(string, char):\n",
    "    for i in range(len(string)) :\n",
    "        if string[i] == char :\n",
    "            return i\n",
    "    return -1\n",
    "\n",
    "print(find('Hello world!', 'o'))"
   ]
  },
  {
   "cell_type": "code",
   "execution_count": 62,
   "metadata": {},
   "outputs": [
    {
     "name": "stdout",
     "output_type": "stream",
     "text": [
      "1\n",
      "-1\n"
     ]
    }
   ],
   "source": [
    "#modification of find function to include a third parameter to specify the start of search\n",
    "def find2(string, char, start):\n",
    "    for i in range(start, len(string)):\n",
    "        if (string[i] == char):\n",
    "            return i\n",
    "    return -1\n",
    "print(find('Hello world!', 'e'))\n",
    "print(find2('Hello world!', 'e',6))"
   ]
  },
  {
   "cell_type": "code",
   "execution_count": 65,
   "metadata": {},
   "outputs": [
    {
     "name": "stdout",
     "output_type": "stream",
     "text": [
      "-1\n"
     ]
    }
   ],
   "source": [
    "#find function to return all instances \n",
    "def find3(string, char):\n",
    "    indices = []\n",
    "    for i in range(len(string)):\n",
    "        if string[i] == char:\n",
    "            indices.append(i)\n",
    "    if len(indices) == 0:\n",
    "        return -1\n",
    "    else:\n",
    "        return indices\n",
    "print(find3('Hello world!', 'y'))"
   ]
  },
  {
   "cell_type": "code",
   "execution_count": 73,
   "metadata": {},
   "outputs": [
    {
     "name": "stdout",
     "output_type": "stream",
     "text": [
      "0\n",
      "1\n",
      "2\n"
     ]
    }
   ],
   "source": [
    "#counting the number of times a character appears in a string \n",
    "def count(string, char) :\n",
    "    count = 0\n",
    "    for i in string :\n",
    "        if i == char:\n",
    "            count += 1\n",
    "    return count\n",
    "print(count('amazing','h'))\n",
    "print(count('amazing','z'))\n",
    "print(count('amazing','a'))"
   ]
  },
  {
   "cell_type": "code",
   "execution_count": 83,
   "metadata": {},
   "outputs": [
    {
     "name": "stdout",
     "output_type": "stream",
     "text": [
      "8\n"
     ]
    }
   ],
   "source": [
    "#using the in built string module of python\n",
    "word = \"Hello world!\"\n",
    "print(word.find('r'))\n",
    "#find() is an inbuilt function that will return the index of the first occurence of the character in the string\n",
    "#returns -1 is not found"
   ]
  },
  {
   "cell_type": "code",
   "execution_count": 88,
   "metadata": {},
   "outputs": [
    {
     "data": {
      "text/plain": [
       "3"
      ]
     },
     "execution_count": 88,
     "metadata": {},
     "output_type": "execute_result"
    }
   ],
   "source": [
    "word.find('l',3,5)"
   ]
  },
  {
   "cell_type": "code",
   "execution_count": 100,
   "metadata": {},
   "outputs": [
    {
     "name": "stdout",
     "output_type": "stream",
     "text": [
      "False\n"
     ]
    }
   ],
   "source": [
    "#more functions\n",
    "#islower(), isupper() return boolean values\n",
    "print(word.islower())"
   ]
  },
  {
   "cell_type": "code",
   "execution_count": 104,
   "metadata": {},
   "outputs": [
    {
     "name": "stdout",
     "output_type": "stream",
     "text": [
      "HELLO WORLD!\n",
      "hello world!\n",
      "Hello world!\n"
     ]
    }
   ],
   "source": [
    "#upper(), lower() and capitalize() functions to convert case of strings\n",
    "print(word.upper())\n",
    "print(word.lower())\n",
    "print(word.capitalize())"
   ]
  },
  {
   "cell_type": "code",
   "execution_count": 114,
   "metadata": {},
   "outputs": [
    {
     "name": "stdout",
     "output_type": "stream",
     "text": [
      "Hello  \t\n",
      "\r",
      "\u000b",
      "\f",
      "World\n"
     ]
    }
   ],
   "source": [
    "print(\"Hello\",end=' ')\n",
    "print(string.whitespace,end='')\n",
    "print(\"World\")"
   ]
  },
  {
   "cell_type": "code",
   "execution_count": 121,
   "metadata": {},
   "outputs": [
    {
     "name": "stdout",
     "output_type": "stream",
     "text": [
      "[0, 1, 2, 3, 4, 5, 6, 7, 8, 9]\n"
     ]
    }
   ],
   "source": [
    "list1 = []\n",
    "for i in range(10):\n",
    "    list1.append(i)\n",
    "print(list1)"
   ]
  },
  {
   "cell_type": "code",
   "execution_count": 123,
   "metadata": {},
   "outputs": [
    {
     "name": "stdout",
     "output_type": "stream",
     "text": [
      "[3, 6, 9, 12, 15, 18, 21, 24, 27, 30, 33, 36, 39, 42, 45, 48, 51, 54, 57, 60, 63, 66, 69, 72, 75, 78, 81, 84, 87, 90, 93, 96, 99, 102, 105, 108, 111, 114, 117, 120, 123, 126, 129, 132, 135, 138, 141, 144, 147, 150, 153, 156, 159, 162, 165, 168, 171, 174, 177, 180, 183, 186, 189, 192, 195, 198, 201, 204, 207, 210, 213, 216, 219, 222, 225, 228, 231, 234, 237, 240, 243, 246, 249, 252, 255, 258, 261, 264, 267, 270, 273, 276, 279, 282, 285, 288, 291, 294, 297, 300, 303, 306, 309, 312, 315, 318, 321, 324, 327, 330, 333, 336, 339, 342, 345, 348, 351, 354, 357, 360, 363, 366, 369, 372, 375, 378, 381, 384, 387, 390, 393, 396, 399, 402, 405, 408, 411, 414, 417, 420, 423, 426, 429, 432, 435, 438, 441, 444, 447, 450, 453, 456, 459, 462, 465, 468, 471, 474, 477, 480, 483, 486, 489, 492, 495, 498, 501, 504, 507, 510, 513, 516, 519, 522, 525, 528, 531, 534, 537, 540, 543, 546, 549, 552, 555, 558, 561, 564, 567, 570, 573, 576, 579, 582, 585, 588, 591, 594, 597, 600, 603, 606, 609, 612, 615, 618, 621, 624, 627, 630, 633, 636, 639, 642, 645, 648, 651, 654, 657, 660, 663, 666, 669, 672, 675, 678, 681, 684, 687, 690, 693, 696, 699, 702, 705, 708, 711, 714, 717, 720, 723, 726, 729, 732, 735, 738, 741, 744, 747, 750, 753, 756, 759, 762, 765, 768, 771, 774, 777, 780, 783, 786, 789, 792, 795, 798, 801, 804, 807, 810, 813, 816, 819, 822, 825, 828, 831, 834, 837, 840, 843, 846, 849, 852, 855, 858, 861, 864, 867, 870, 873, 876, 879, 882, 885, 888, 891, 894, 897, 900, 903, 906, 909, 912, 915, 918, 921, 924, 927, 930, 933, 936, 939, 942, 945, 948, 951, 954, 957, 960, 963, 966, 969, 972, 975, 978, 981, 984, 987, 990, 993, 996, 999]\n"
     ]
    }
   ],
   "source": [
    "#range with third argument -> step size\n",
    "list2 = []\n",
    "for i in range(3,1000,3):\n",
    "    list2.append(i)\n",
    "print(list2)"
   ]
  },
  {
   "cell_type": "code",
   "execution_count": 124,
   "metadata": {},
   "outputs": [
    {
     "name": "stdout",
     "output_type": "stream",
     "text": [
      "['hello', 44, 'example', 7.8, ['a', 'b', 'c']]\n"
     ]
    }
   ],
   "source": [
    "#accessing elements of a list\n",
    "ex_list = ['hello',44,'example',7.8,['a','b','c']]\n",
    "print(ex_list)"
   ]
  },
  {
   "cell_type": "code",
   "execution_count": 127,
   "metadata": {},
   "outputs": [
    {
     "name": "stdout",
     "output_type": "stream",
     "text": [
      "<class 'list'>\n"
     ]
    }
   ],
   "source": [
    "print(type(ex_list))"
   ]
  },
  {
   "cell_type": "code",
   "execution_count": 128,
   "metadata": {},
   "outputs": [
    {
     "name": "stdout",
     "output_type": "stream",
     "text": [
      "7.8\n"
     ]
    }
   ],
   "source": [
    "print(ex_list[3])"
   ]
  },
  {
   "cell_type": "code",
   "execution_count": 130,
   "metadata": {},
   "outputs": [
    {
     "name": "stdout",
     "output_type": "stream",
     "text": [
      "[44, 'example']\n"
     ]
    }
   ],
   "source": [
    "print(ex_list[1:3])"
   ]
  },
  {
   "cell_type": "code",
   "execution_count": 132,
   "metadata": {},
   "outputs": [
    {
     "name": "stdout",
     "output_type": "stream",
     "text": [
      "['hello', 44, 'example', 7.8]\n"
     ]
    }
   ],
   "source": [
    "print(ex_list[:len(ex_list)-1])"
   ]
  },
  {
   "cell_type": "code",
   "execution_count": 133,
   "metadata": {},
   "outputs": [
    {
     "name": "stdout",
     "output_type": "stream",
     "text": [
      "['a', 'b', 'c']\n"
     ]
    }
   ],
   "source": [
    "print(ex_list[-1])"
   ]
  },
  {
   "cell_type": "code",
   "execution_count": 134,
   "metadata": {},
   "outputs": [
    {
     "name": "stdout",
     "output_type": "stream",
     "text": [
      "['example', 7.8]\n"
     ]
    }
   ],
   "source": [
    "#pretty much all the indexing and slicing works in a way similar to that in strings\n",
    "print(ex_list[2:4])"
   ]
  },
  {
   "cell_type": "code",
   "execution_count": 135,
   "metadata": {},
   "outputs": [
    {
     "name": "stdout",
     "output_type": "stream",
     "text": [
      "example\n"
     ]
    }
   ],
   "source": [
    "print(ex_list[-3])"
   ]
  },
  {
   "cell_type": "code",
   "execution_count": 136,
   "metadata": {},
   "outputs": [
    {
     "name": "stdout",
     "output_type": "stream",
     "text": [
      "['hello', 67, 'example', 7.8, ['a', 'b', 'c']]\n"
     ]
    }
   ],
   "source": [
    "#unlike strings, lists are mutable\n",
    "ex_list[1] = 67\n",
    "print(ex_list)"
   ]
  },
  {
   "cell_type": "code",
   "execution_count": 142,
   "metadata": {},
   "outputs": [
    {
     "name": "stdout",
     "output_type": "stream",
     "text": [
      "['hello', 'world', [14, 1, 4, 1, 4, 1], ['asf', 78, 9.5], 'endoflist']\n",
      "5\n",
      "5\n",
      "6\n",
      "3\n",
      "9\n"
     ]
    }
   ],
   "source": [
    "lengthy_list = ['hello','world',[14,1,4,1,4,1],['asf', 78, 9.5], 'endoflist' ]\n",
    "print(lengthy_list)\n",
    "for i in lengthy_list:\n",
    "    print(len(i))"
   ]
  },
  {
   "cell_type": "code",
   "execution_count": 149,
   "metadata": {},
   "outputs": [
    {
     "name": "stdout",
     "output_type": "stream",
     "text": [
      "True\n"
     ]
    }
   ],
   "source": [
    "#testing the presence of an element in a list using 'in'\n",
    "cricketers = ['virat','rohit','abd','dhoni']\n",
    "print('virat' in cricketers)"
   ]
  },
  {
   "cell_type": "code",
   "execution_count": 150,
   "metadata": {},
   "outputs": [
    {
     "name": "stdout",
     "output_type": "stream",
     "text": [
      "False\n"
     ]
    }
   ],
   "source": [
    "print('obama' in cricketers)"
   ]
  },
  {
   "cell_type": "code",
   "execution_count": 151,
   "metadata": {},
   "outputs": [
    {
     "name": "stdout",
     "output_type": "stream",
     "text": [
      "virat\n",
      "rohit\n",
      "abd\n",
      "dhoni\n"
     ]
    }
   ],
   "source": [
    "for cricketer in cricketers :\n",
    "    print(cricketer)"
   ]
  },
  {
   "cell_type": "code",
   "execution_count": 152,
   "metadata": {},
   "outputs": [
    {
     "name": "stdout",
     "output_type": "stream",
     "text": [
      "['messi', 'ronaldo', 'zlatan', 'benzema']\n"
     ]
    }
   ],
   "source": [
    "#concatenation of lists\n",
    "footballers = ['messi','ronaldo','zlatan','benzema']\n",
    "print(footballers)"
   ]
  },
  {
   "cell_type": "code",
   "execution_count": 157,
   "metadata": {},
   "outputs": [
    {
     "name": "stdout",
     "output_type": "stream",
     "text": [
      "['virat', 'rohit', 'abd', 'dhoni', 'messi', 'ronaldo', 'zlatan', 'benzema', [5, 3, 4, 5]]\n"
     ]
    }
   ],
   "source": [
    "sportsmen=cricketers+footballers\n",
    "print(sportsmen+[[5,3,4,5]])"
   ]
  },
  {
   "cell_type": "code",
   "execution_count": 158,
   "metadata": {},
   "outputs": [
    {
     "name": "stdout",
     "output_type": "stream",
     "text": [
      "[45, 56, 1, 0, 99]\n"
     ]
    }
   ],
   "source": [
    "#mutating several elements of a list at once\n",
    "ex_list2 = [45,56,1,0,99]\n",
    "print(ex_list2)"
   ]
  },
  {
   "cell_type": "code",
   "execution_count": 167,
   "metadata": {},
   "outputs": [
    {
     "name": "stdout",
     "output_type": "stream",
     "text": [
      "[45, 56, 6, 6, 6]\n",
      "[45, 56, 45, 6]\n"
     ]
    }
   ],
   "source": [
    "ex_list2[2:] = [6,6,6]\n",
    "print(ex_list2)\n",
    "ex_list2[2:] =[45,6]#if the number of elements dont match, then the list is truncated\n",
    "print(ex_list2)"
   ]
  },
  {
   "cell_type": "code",
   "execution_count": 168,
   "metadata": {},
   "outputs": [
    {
     "name": "stdout",
     "output_type": "stream",
     "text": [
      "[45, 56]\n"
     ]
    }
   ],
   "source": [
    "ex_list2[2:] = []\n",
    "print(ex_list2)"
   ]
  },
  {
   "cell_type": "code",
   "execution_count": 185,
   "metadata": {},
   "outputs": [
    {
     "name": "stdout",
     "output_type": "stream",
     "text": [
      "[45, 1, 0, 99]\n"
     ]
    }
   ],
   "source": [
    "ex_list2 = [45,56,1,0,99]\n",
    "ex_list2[1:2] = []\n",
    "print(ex_list2)"
   ]
  },
  {
   "cell_type": "code",
   "execution_count": 194,
   "metadata": {},
   "outputs": [
    {
     "name": "stdout",
     "output_type": "stream",
     "text": [
      "[45, 1, 0, 99]\n",
      "[0, 99]\n"
     ]
    }
   ],
   "source": [
    "ex_list2 = [45,56,1,0,99]\n",
    "ex_list2[1:2] = []\n",
    "print(ex_list2)\n",
    "del(ex_list2[0:2])\n",
    "print(ex_list2)"
   ]
  },
  {
   "cell_type": "code",
   "execution_count": 198,
   "metadata": {},
   "outputs": [
    {
     "name": "stdout",
     "output_type": "stream",
     "text": [
      "4378899056\n",
      "4378899056\n"
     ]
    }
   ],
   "source": [
    "#lets see how the strings and lists are allotted in the memory in python\n",
    "string1 = 'apple'\n",
    "string2 = 'apple'\n",
    "print(id(string1))\n",
    "print(id(string2))"
   ]
  },
  {
   "cell_type": "code",
   "execution_count": 200,
   "metadata": {},
   "outputs": [],
   "source": [
    "#we get the same ids for string1 and string2\n",
    "#that means there is only one 'apple' in the memory and both string1 and string2 refer to the same mem location\n",
    "#lets see what happens for lists"
   ]
  },
  {
   "cell_type": "code",
   "execution_count": 201,
   "metadata": {},
   "outputs": [
    {
     "name": "stdout",
     "output_type": "stream",
     "text": [
      "4379096000\n",
      "4361755616\n"
     ]
    }
   ],
   "source": [
    "list1 = [1,2,3]\n",
    "list2 = [1,2,3]\n",
    "print(id(list1))\n",
    "print(id(list2))"
   ]
  },
  {
   "cell_type": "code",
   "execution_count": 203,
   "metadata": {},
   "outputs": [],
   "source": [
    "#we see that the ids of list1 and list2 are different. That means thought the values of the lists are same, they are\n",
    "#referring to different memory locations ... so there are two [1,2,3] s."
   ]
  },
  {
   "cell_type": "code",
   "execution_count": 202,
   "metadata": {},
   "outputs": [],
   "source": [
    "#aliasing lists and why we should be careful"
   ]
  },
  {
   "cell_type": "code",
   "execution_count": 205,
   "metadata": {},
   "outputs": [
    {
     "name": "stdout",
     "output_type": "stream",
     "text": [
      "[4, 5, 6]\n",
      "[4, 5, 6]\n",
      "4378988368\n",
      "4378988368\n"
     ]
    }
   ],
   "source": [
    "a = [4,5,6]\n",
    "b = a #aliasing\n",
    "print(a)\n",
    "print(b)\n",
    "print(id(a))\n",
    "print(id(b))"
   ]
  },
  {
   "cell_type": "code",
   "execution_count": 206,
   "metadata": {},
   "outputs": [],
   "source": [
    "#the ids of both a and b are same ... means when we write b = a, then b is also referring to what a is referring already\n"
   ]
  },
  {
   "cell_type": "code",
   "execution_count": 207,
   "metadata": {},
   "outputs": [],
   "source": [
    "#lets see what happens when we change one of the lists\n",
    "b[2] = 7"
   ]
  },
  {
   "cell_type": "code",
   "execution_count": 208,
   "metadata": {},
   "outputs": [
    {
     "name": "stdout",
     "output_type": "stream",
     "text": [
      "[4, 5, 7]\n",
      "[4, 5, 7]\n"
     ]
    }
   ],
   "source": [
    "print(a)\n",
    "print(b)"
   ]
  },
  {
   "cell_type": "code",
   "execution_count": 209,
   "metadata": {},
   "outputs": [],
   "source": [
    "#a change in b brings a change in a"
   ]
  },
  {
   "cell_type": "code",
   "execution_count": 210,
   "metadata": {},
   "outputs": [
    {
     "name": "stdout",
     "output_type": "stream",
     "text": [
      "[10, 5, 7]\n"
     ]
    }
   ],
   "source": [
    "a[0] = 10\n",
    "print(b)"
   ]
  },
  {
   "cell_type": "code",
   "execution_count": 212,
   "metadata": {},
   "outputs": [],
   "source": [
    "#also change in a will change values in b"
   ]
  },
  {
   "cell_type": "code",
   "execution_count": 213,
   "metadata": {},
   "outputs": [
    {
     "name": "stdout",
     "output_type": "stream",
     "text": [
      "[4, 5, 6]\n",
      "[4, 5, 6]\n",
      "4379099040\n",
      "4379098320\n"
     ]
    }
   ],
   "source": [
    "#cloning the list\n",
    "a = [4,5,6]\n",
    "b = a[:] #cloning and not aliasing\n",
    "print(a)\n",
    "print(b)\n",
    "print(id(a))\n",
    "print(id(b))"
   ]
  },
  {
   "cell_type": "code",
   "execution_count": 214,
   "metadata": {},
   "outputs": [
    {
     "name": "stdout",
     "output_type": "stream",
     "text": [
      "[4, 5, 6]\n",
      "[4, 5, 8]\n"
     ]
    }
   ],
   "source": [
    "#different ids that means they refer to different objects \n",
    "#change in one list will not bring a change in other list\n",
    "b[2] = 8\n",
    "print(a)\n",
    "print(b)"
   ]
  },
  {
   "cell_type": "code",
   "execution_count": 215,
   "metadata": {},
   "outputs": [],
   "source": [
    "#a has not changed"
   ]
  },
  {
   "cell_type": "code",
   "execution_count": 222,
   "metadata": {},
   "outputs": [
    {
     "name": "stdout",
     "output_type": "stream",
     "text": [
      "[43, 78, 66, 5]\n",
      "[43, 78, 66, 1000]\n",
      "[43, 78, 66, 1000]\n",
      "example\n",
      "y\n",
      "example\n"
     ]
    }
   ],
   "source": [
    "#passing list as parameters to functions\n",
    "#when we pass list as a parameter to any function, we are actually passing the reference to the list and not the list itself\n",
    "list_ex = [43,78,66,5]\n",
    "def modify_list(l):\n",
    "    l[-1] = 1000 #the last element of any list passed to this function will be changed to 1000\n",
    "    return l \n",
    "\n",
    "print(list_ex)\n",
    "print(modify_list(list_ex))\n",
    "print(list_ex)\n",
    "\n",
    "\n",
    "#compare this with modification of strings\n",
    "string_ex = \"example\"\n",
    "def modify_string(s):\n",
    "    s = 'y'\n",
    "    return s\n",
    "print(string_ex)\n",
    "print(modify_string(string_ex))\n",
    "print(string_ex)\n",
    "\n",
    "#we can see that the string manipulation doesn't continue to stay once it is  "
   ]
  },
  {
   "cell_type": "code",
   "execution_count": null,
   "metadata": {},
   "outputs": [],
   "source": [
    "#hence better to clone a list before passing it to a function"
   ]
  },
  {
   "cell_type": "code",
   "execution_count": 224,
   "metadata": {},
   "outputs": [
    {
     "name": "stdout",
     "output_type": "stream",
     "text": [
      "[[1, 2, 3], [4, 5, 6], [7, 8, 9]]\n",
      "[1, 2, 3]\n",
      "[4, 5, 6]\n",
      "[7, 8, 9]\n"
     ]
    }
   ],
   "source": [
    "#matrices using nested lists\n",
    "matrix = [[1,2,3],[4,5,6],[7,8,9]]\n",
    "print(matrix)\n",
    "for i in matrix :\n",
    "    print(i) #each element in the matrix list is another list (row)\n"
   ]
  },
  {
   "cell_type": "code",
   "execution_count": 228,
   "metadata": {},
   "outputs": [
    {
     "name": "stdout",
     "output_type": "stream",
     "text": [
      "6\n"
     ]
    }
   ],
   "source": [
    "#to access an element i,j ... i and j both starting from 0\n",
    "print(matrix[1][2])"
   ]
  },
  {
   "cell_type": "code",
   "execution_count": 231,
   "metadata": {},
   "outputs": [
    {
     "name": "stdout",
     "output_type": "stream",
     "text": [
      "['The', 'weather', 'is', 'quite', 'pleasant', 'today!']\n"
     ]
    }
   ],
   "source": [
    "#split and join functions to convert strings to lists and vice-versa\n",
    "sentence = \"The weather is quite pleasant today!\"\n",
    "words = sentence.split() #by default, the delimeter is any whitespace\n",
    "print(words)"
   ]
  },
  {
   "cell_type": "code",
   "execution_count": 233,
   "metadata": {},
   "outputs": [
    {
     "name": "stdout",
     "output_type": "stream",
     "text": [
      "['Th', ' w', 'ath', 'r is quit', ' pl', 'asant today!']\n"
     ]
    }
   ],
   "source": [
    "words2 = sentence.split(\"e\")\n",
    "print(words2)\n",
    "#notice that the delimeter does not appear in the list\n"
   ]
  },
  {
   "cell_type": "code",
   "execution_count": 252,
   "metadata": {},
   "outputs": [
    {
     "name": "stdout",
     "output_type": "stream",
     "text": [
      "a$b$c$d\n",
      "abcd\n"
     ]
    }
   ],
   "source": [
    "#now joining the elements in a list into a string\n",
    "alphabets = ['a','b','c','d']\n",
    "song = '$'.join(alphabets) #$ is added after element in the list ...\n",
    "song2 = ''.join(alphabets)\n",
    "print(song)\n",
    "print(song2)"
   ]
  },
  {
   "cell_type": "code",
   "execution_count": null,
   "metadata": {},
   "outputs": [],
   "source": []
  }
 ],
 "metadata": {
  "kernelspec": {
   "display_name": "Python 3",
   "language": "python",
   "name": "python3"
  },
  "language_info": {
   "codemirror_mode": {
    "name": "ipython",
    "version": 3
   },
   "file_extension": ".py",
   "mimetype": "text/x-python",
   "name": "python",
   "nbconvert_exporter": "python",
   "pygments_lexer": "ipython3",
   "version": "3.7.6"
  }
 },
 "nbformat": 4,
 "nbformat_minor": 4
}
